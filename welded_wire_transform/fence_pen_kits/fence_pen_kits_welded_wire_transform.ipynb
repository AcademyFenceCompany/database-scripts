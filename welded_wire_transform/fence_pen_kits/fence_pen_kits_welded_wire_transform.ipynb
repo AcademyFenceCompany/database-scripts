{
 "cells": [
  {
   "cell_type": "code",
   "execution_count": 1,
   "metadata": {},
   "outputs": [],
   "source": [
    "import pandas as pd"
   ]
  },
  {
   "cell_type": "code",
   "execution_count": null,
   "metadata": {},
   "outputs": [],
   "source": [
    "# BASE_DIR = os.getcwd()\n",
    "# csv_path = f\"welded_wire_transform\\\\galvanized\\\\galvanized_ww_original.csv\"\n",
    "\n",
    "# galvanized_ww_orginal_df = pd.read_csv(os.path.join(BASE_DIR, csv_path))\n",
    "\n",
    "fence_pen_kits_ww_orginal_df = pd.read_csv(\"C:\\\\Users\\\\WebDev4\\\\Desktop\\\\afc_website\\\\db-scripts\\\\database-scripts\\\\welded_wire_transform\\\\fence_pen_kits\\\\fence_pen_kits_ww_original.csv\")\n",
    "print(fence_pen_kits_ww_orginal_df.head())"
   ]
  },
  {
   "cell_type": "code",
   "execution_count": null,
   "metadata": {},
   "outputs": [],
   "source": [
    "fence_pen_kits_ww_orginal_df = fence_pen_kits_ww_orginal_df.rename(columns={'class': 'shipping_class'})\n",
    "fence_pen_kits_ww_orginal_df = fence_pen_kits_ww_orginal_df.fillna('NULL')\n",
    "print(fence_pen_kits_ww_orginal_df.head())"
   ]
  },
  {
   "cell_type": "code",
   "execution_count": 4,
   "metadata": {},
   "outputs": [],
   "source": [
    "products_df = pd.DataFrame(columns=['original_product_id', 'product_id', 'product_name', 'item_no', 'cost', 'price_per_unit', 'shippable', 'family_category_id', 'description'])"
   ]
  },
  {
   "cell_type": "code",
   "execution_count": null,
   "metadata": {},
   "outputs": [],
   "source": [
    "for row in fence_pen_kits_ww_orginal_df.itertuples(index=True):\n",
    "    products_df.loc[row.Index, 'original_product_id'] = 'NULL' if row.product_id =='NULL' else int(row.product_id)\n",
    "\n",
    "    name = row.product_name.replace(\"ft\", \" ft.\").strip()\n",
    "    products_df.loc[row.Index, 'product_name'] = name\n",
    "\n",
    "    products_df.loc[row.Index, 'item_no'] = row.item_no.strip()\n",
    "    products_df.loc[row.Index, 'cost'] = 'NULL' if row.cost == 0 or row.cost == 0.00 else row.cost\n",
    "    products_df.loc[row.Index, 'price_per_unit'] = 0 if row.price == 'NULL' or row.price == 0.00 else row.price\n",
    "    products_df.loc[row.Index, 'shippable'] = 0\n",
    "    products_df.loc[row.Index, 'family_category_id'] = 1\n",
    "    products_df.loc[row.Index, 'description'] = \"Fence Pen Kits are manufactured by Academy Fence Welded Wire Manufacturing, a leading wire mesh fencing manufacturer. They make for a quick enclosure solution for new pets, dogs and play pens. They are also easy to install, portable and relocatable.\".strip()\n",
    "\n",
    "products_df = products_df.fillna('NULL')\n",
    "print(products_df.head())\n"
   ]
  },
  {
   "cell_type": "code",
   "execution_count": 13,
   "metadata": {},
   "outputs": [],
   "source": [
    "products_df.to_csv(\"C:\\\\Users\\\\WebDev4\\\\Desktop\\\\afc_website\\\\db-scripts\\\\database-scripts\\\\database_csvs\\\\welded_wire\\\\fence_pen_kits\\\\fence_pen_kits_ww_products.csv\", index=False)"
   ]
  },
  {
   "cell_type": "code",
   "execution_count": null,
   "metadata": {},
   "outputs": [],
   "source": [
    "product_details_df = pd.DataFrame(columns=['original_product_id', 'family_category_id', 'subcategory_id', 'product_details_id', 'product_id', 'size1', 'size2', 'size3', 'style', 'speciality', 'material', 'spacing', 'color', 'coating'])"
   ]
  },
  {
   "cell_type": "code",
   "execution_count": null,
   "metadata": {},
   "outputs": [],
   "source": [
    "# PRODUCT DETAILS DATAFRAME\n",
    "\n",
    "for row in fence_pen_kits_ww_orginal_df.itertuples(index=True):\n",
    "    product_details_df.loc[row.Index, 'original_product_id'] = 'NULL' if row.product_id =='NULL' else int(row.product_id)\n",
    "\n",
    "    # length x height\n",
    "    len_h = row.size.replace(\"in\", \" in.\").strip()\n",
    "    len_h= len_h.replace(\"ft\", \" ft.\").strip()\n",
    "    product_details_df.loc[row.Index, 'size1'] = len_h\n",
    "    # print(row.product_id, len_h)\n",
    "\n",
    "    # mesh size\n",
    "    mesh_size_arr = row.display_size_2.split(\" \")[:3]\n",
    "    mesh_size = ''.join(x + ' ' for x in mesh_size_arr)\n",
    "    mesh_size = mesh_size.replace(\"in\", \" in.\").strip()\n",
    "    mesh_size = mesh_size.replace(\"-\", \" \")\n",
    "    # print(row.product_id, mesh_size)\n",
    "\n",
    "    product_details_df.loc[row.Index, 'size2'] = mesh_size\n",
    "\n",
    "    # guage size\n",
    "    guage_size_arr = row.display_size_2.split(\" \")[3:]\n",
    "    guage_size = ''.join(x + ' ' for x in guage_size_arr)\n",
    "    guage_size = guage_size.replace(\"x \", \"\")\n",
    "    # print(guage_size)\n",
    "    product_details_df.loc[row.Index, 'size3'] = guage_size\n",
    "\n",
    "    product_details_df.loc[row.Index, 'material'] = \"Hot Dipped Galvanized Before Welding (GBW) Steel Core\"\n",
    "    product_details_df.loc[row.Index, 'color'] = row.color.strip()\n",
    "    # print(row.product_id,  row.color)\n",
    "    product_details_df.loc[row.Index, 'coating'] = \"Vinyl PVC\"\n",
    "\n",
    "    product_details_df.loc[row.Index, 'family_category_id'] = 12\n",
    "\n",
    " \n",
    "product_details_df = product_details_df.fillna('NULL')\n",
    "print(product_details_df.head(7))"
   ]
  },
  {
   "cell_type": "code",
   "execution_count": 36,
   "metadata": {},
   "outputs": [],
   "source": [
    "product_details_df.to_csv(\"C:\\\\Users\\\\WebDev4\\\\Desktop\\\\afc_website\\\\db-scripts\\\\database-scripts\\\\database_csvs\\\\welded_wire\\\\fence_pen_kits\\\\fence_pen_kits_ww_product_details.csv\", index=False)"
   ]
  },
  {
   "cell_type": "code",
   "execution_count": 38,
   "metadata": {},
   "outputs": [],
   "source": [
    "product_media_df = pd.DataFrame(columns=['product_media_id', 'original_product_id', 'family_category_id', 'product_id', 'general_image', 'small_image', 'large_image'])"
   ]
  },
  {
   "cell_type": "code",
   "execution_count": null,
   "metadata": {},
   "outputs": [],
   "source": [
    "for row in fence_pen_kits_ww_orginal_df.itertuples(index=True):\n",
    "    product_media_df.loc[row.Index, 'original_product_id'] = row.product_id \n",
    "    # large image links\n",
    "    # large_image_url = 'NULL' if str(row.img_large) == 'NULL' else 'https://www.academyfence.com/images/DevXy/' + str(row.img_large)\n",
    "    # print(row.img_large)\n",
    "    # print(large_image_url)\n",
    "    # product_media_df.loc[row.Index, 'large_image'] = large_image_url.strip()\n",
    "    product_media_df.loc[row.Index, 'family_category_id'] = 12\n",
    "\n",
    "product_media_df['original_product_id'] = product_media_df['original_product_id'].fillna(0).astype(int)\n",
    "product_media_df = product_media_df.fillna('NULL')\n",
    "print(product_media_df)"
   ]
  },
  {
   "cell_type": "code",
   "execution_count": 40,
   "metadata": {},
   "outputs": [],
   "source": [
    "product_media_df.to_csv(\"C:\\\\Users\\\\WebDev4\\\\Desktop\\\\afc_website\\\\db-scripts\\\\database-scripts\\\\database_csvs\\\\welded_wire\\\\fence_pen_kits\\\\fence_pen_kits_ww_product_media.csv\", index=False)"
   ]
  },
  {
   "cell_type": "code",
   "execution_count": 41,
   "metadata": {},
   "outputs": [],
   "source": [
    "shipping_details_df = pd.DataFrame(columns=['original_product_id', 'family_category_id', 'shipping_details_id', 'product_id', 'weight', 'shipping_length', 'shipping_width', 'shipping_height', 'shipping_class', 'free_shipping', 'special_shipping', 'amount_per_box', 'description'])"
   ]
  },
  {
   "cell_type": "code",
   "execution_count": null,
   "metadata": {},
   "outputs": [],
   "source": [
    "# SHIPPING DETAILS DATAFRAME\n",
    "for row in fence_pen_kits_ww_orginal_df.itertuples(index=True):\n",
    "    shipping_details_df.loc[row.Index, 'original_product_id'] = 'NULL' if row.product_id =='NULL' else int(row.product_id)\n",
    "    shipping_details_df.loc[row.Index, 'shipping_length'] = row.ship_length\n",
    "    shipping_details_df.loc[row.Index, 'shipping_width'] = row.ship_width\n",
    "    shipping_details_df.loc[row.Index, 'shipping_height'] = row.ship_height\n",
    "    shipping_details_df.loc[row.Index, 'weight'] = row.weight_lbs\n",
    "    shipping_details_df.loc[row.Index, 'free_shipping'] = 0\n",
    "    shipping_details_df.loc[row.Index, 'special_shipping'] = 0\n",
    "    shipping_details_df.loc[row.Index, 'amount_per_box'] = 1\n",
    "    shipping_details_df.loc[row.Index, 'shipping_class'] = row.shipping_class.strip()\n",
    "    shipping_details_df.loc[row.Index, 'description'] = \"Academy Fence Company Fence Pen Kits\"\n",
    "\n",
    "    shipping_details_df.loc[row.Index, 'family_category_id'] = 12\n",
    "\n",
    "shipping_details_df['original_product_id'] = shipping_details_df['original_product_id'].fillna(0).astype(int)\n",
    "shipping_details_df = shipping_details_df.fillna('NULL')\n",
    "print(shipping_details_df)"
   ]
  },
  {
   "cell_type": "code",
   "execution_count": 43,
   "metadata": {},
   "outputs": [],
   "source": [
    "shipping_details_df.to_csv(\"C:\\\\Users\\\\WebDev4\\\\Desktop\\\\afc_website\\\\db-scripts\\\\database-scripts\\\\database_csvs\\\\welded_wire\\\\fence_pen_kits\\\\fence_pen_kits_ww_shipping_details.csv\", index=False)"
   ]
  }
 ],
 "metadata": {
  "kernelspec": {
   "display_name": "Python 3",
   "language": "python",
   "name": "python3"
  },
  "language_info": {
   "codemirror_mode": {
    "name": "ipython",
    "version": 3
   },
   "file_extension": ".py",
   "mimetype": "text/x-python",
   "name": "python",
   "nbconvert_exporter": "python",
   "pygments_lexer": "ipython3",
   "version": "3.13.0"
  }
 },
 "nbformat": 4,
 "nbformat_minor": 2
}
