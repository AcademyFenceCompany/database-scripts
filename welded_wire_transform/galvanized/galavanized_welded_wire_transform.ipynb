{
 "cells": [
  {
   "cell_type": "code",
   "execution_count": 277,
   "metadata": {},
   "outputs": [],
   "source": [
    "import pandas as pd\n",
    "import os\n"
   ]
  },
  {
   "cell_type": "code",
   "execution_count": 278,
   "metadata": {},
   "outputs": [],
   "source": [
    "# original_products_df = pd.read_csv(\"C:\\\\Users\\\\WebDev4\\\\Desktop\\\\afc_website\\\\db-scripts\\\\database-scripts\\\\products_ORIGINAL.csv\", low_memory=False)"
   ]
  },
  {
   "cell_type": "code",
   "execution_count": 279,
   "metadata": {},
   "outputs": [],
   "source": [
    "# BASE_DIR = os.getcwd()\n",
    "# csv_path = f\"welded_wire_transform\\\\galvanized\\\\galvanized_ww_original.csv\"\n",
    "\n",
    "# galvanized_ww_orginal_df = pd.read_csv(os.path.join(BASE_DIR, csv_path))\n",
    "\n",
    "galvanized_ww_orginal_df = pd.read_csv(\"C:\\\\Users\\\\WebDev4\\\\Desktop\\\\afc_website\\\\db-scripts\\\\database-scripts\\\\welded_wire_transform\\\\galvanized\\\\galvanized_ww_original.csv\", delimiter=\"\\t\")\n",
    "# print(galvanized_ww_orginal_df.head())"
   ]
  },
  {
   "cell_type": "code",
   "execution_count": null,
   "metadata": {},
   "outputs": [],
   "source": [
    "galvanized_ww_orginal_df = galvanized_ww_orginal_df.rename(columns={'class': 'shipping_class'})\n",
    "galvanized_ww_orginal_df = galvanized_ww_orginal_df.fillna('NULL')\n",
    "print(galvanized_ww_orginal_df.head())"
   ]
  },
  {
   "cell_type": "code",
   "execution_count": 281,
   "metadata": {},
   "outputs": [],
   "source": [
    "products_df = pd.DataFrame(columns=['original_product_id', 'product_id', 'product_name', 'item_no', 'price_per_unit', 'shippable', 'family_category_id', 'description'])"
   ]
  },
  {
   "cell_type": "code",
   "execution_count": null,
   "metadata": {},
   "outputs": [],
   "source": [
    "for row in galvanized_ww_orginal_df.itertuples(index=True):\n",
    "    products_df.loc[row.Index, 'original_product_id'] = 'NULL' if row.id =='NULL' else int(row.id)\n",
    "    products_df.loc[row.Index, 'product_name'] = row.name.strip()\n",
    "    products_df.loc[row.Index, 'item_no'] = row.item_number.strip()\n",
    "    products_df.loc[row.Index, 'price_per_unit'] = row.price\n",
    "    products_df.loc[row.Index, 'shippable'] = 1\n",
    "    products_df.loc[row.Index, 'family_category_id'] = 3\n",
    "    products_df.loc[row.Index, 'description'] = \"This galvanized welded wire roll has numerous properties that make it a good choice as a fence and many other applications. The zinc layer on its surface gives it extra protection and offers excellent corrosion resistance and high strengths, even at thinner gauges. It is flexible and will not break when bent. It maintains its properties in hot and cold temperatures. It’s low cost makes it the perfect choice over base metal like aluminum or stainless steel. It’s durability makes it a good choice over less resistant plastic fencing options.\".strip()\n",
    "\n",
    "products_df = products_df.fillna('NULL')\n",
    "print(products_df.head())\n"
   ]
  },
  {
   "cell_type": "code",
   "execution_count": 299,
   "metadata": {},
   "outputs": [],
   "source": [
    "products_df.to_csv(\"C:\\\\Users\\\\WebDev4\\\\Desktop\\\\afc_website\\\\db-scripts\\\\database-scripts\\\\database_csvs\\\\welded_wire\\\\galvanized\\\\galvanized_ww_products.csv\", index=False)"
   ]
  },
  {
   "cell_type": "code",
   "execution_count": 284,
   "metadata": {},
   "outputs": [],
   "source": [
    "product_details_df = pd.DataFrame(columns=['original_product_id', 'product_details_id', 'product_id', 'size1', 'size2', 'size3', 'style', 'speciality', 'material', 'spacing', 'color', 'coating'])"
   ]
  },
  {
   "cell_type": "code",
   "execution_count": 285,
   "metadata": {},
   "outputs": [
    {
     "name": "stdout",
     "output_type": "stream",
     "text": [
      "     original_product_id product_details_id product_id         size1 size2  \\\n",
      "347                  364               NULL       NULL  48in x 100ft  NULL   \n",
      "348                  365               NULL       NULL  48in x 100ft  NULL   \n",
      "349                  366               NULL       NULL   48in x 50ft  NULL   \n",
      "350                  367               NULL       NULL   60in x 50ft  NULL   \n",
      "351                  368               NULL       NULL   72in x 50ft  NULL   \n",
      "354                  371               NULL       NULL  36in x 100ft  NULL   \n",
      "355                  372               NULL       NULL  48in x 100ft  NULL   \n",
      "\n",
      "          size3 style speciality          material spacing  color coating  \n",
      "347  12.5 Gauge  NULL       NULL  PVC Coated Steel    NULL  Black     PVC  \n",
      "348  12.5 Gauge  NULL       NULL  PVC Coated Steel    NULL  Green     PVC  \n",
      "349    14 Gauge  NULL       NULL  PVC Coated Steel    NULL  Black     PVC  \n",
      "350    14 Gauge  NULL       NULL  PVC Coated Steel    NULL  Black     PVC  \n",
      "351    14 Gauge  NULL       NULL  PVC Coated Steel    NULL  Black     PVC  \n",
      "354    14 Gauge  NULL       NULL  PVC Coated Steel    NULL  Black     PVC  \n",
      "355    14 Gauge  NULL       NULL  PVC Coated Steel    NULL  Black     PVC  \n"
     ]
    },
    {
     "name": "stderr",
     "output_type": "stream",
     "text": [
      "C:\\Users\\WebDev4\\AppData\\Local\\Temp\\ipykernel_18800\\2392590519.py:25: FutureWarning: Downcasting object dtype arrays on .fillna, .ffill, .bfill is deprecated and will change in a future version. Call result.infer_objects(copy=False) instead. To opt-in to the future behavior, set `pd.set_option('future.no_silent_downcasting', True)`\n",
      "  product_details_df['original_product_id'] = product_details_df['original_product_id'].fillna(0).astype(int)\n"
     ]
    }
   ],
   "source": [
    "# PRODUCT DETAILS DATAFRAME\n",
    "\n",
    "for row in vinyl_ww_original.itertuples(index=True):\n",
    "    product_details_df.loc[row.Index, 'original_product_id'] = row.product_id  \n",
    "\n",
    "    # length x height\n",
    "    product_details_df.loc[row.Index, 'size1'] = row.size.strip()\n",
    "    # mesh size\n",
    "    mesh_size_arr = row.display_size_2.split(\" \")[0:3]\n",
    "    mesh_size = ''.join(x + ' ' for x in mesh_size_arr)\n",
    "    mesh_size = mesh_size.replace(\"in\", \" in.\").strip()\n",
    "    # guage size\n",
    "    guage_size_arr = row.display_size_2.split(\" \")[3:]\n",
    "    guage_size = ''.join(x + ' ' for x in guage_size_arr).strip()\n",
    "    # print(guage_size)\n",
    "    product_details_df.loc[row.Index, 'size3'] = guage_size\n",
    "\n",
    "    product_details_df.loc[row.Index, 'material'] = \"PVC Coated Steel\"\n",
    "    product_details_df.loc[row.Index, 'color'] = row.color.strip()\n",
    "    product_details_df.loc[row.Index, 'coating'] = \"PVC\"\n",
    "\n",
    "    \n",
    "\n",
    "\n",
    "product_details_df['original_product_id'] = product_details_df['original_product_id'].fillna(0).astype(int)\n",
    "product_details_df = product_details_df.fillna('NULL')\n",
    "print(product_details_df.head(7))"
   ]
  },
  {
   "cell_type": "code",
   "execution_count": 286,
   "metadata": {},
   "outputs": [],
   "source": [
    "product_details_df.to_csv(\"C:\\\\Users\\\\WebDev4\\\\Desktop\\\\afc_website\\\\db-scripts\\\\database-scripts\\\\database_csvs\\\\welded_wire\\\\vinyl\\\\vinyl_ww_product_details.csv\", index=False)"
   ]
  },
  {
   "cell_type": "code",
   "execution_count": null,
   "metadata": {},
   "outputs": [],
   "source": []
  },
  {
   "cell_type": "code",
   "execution_count": 287,
   "metadata": {},
   "outputs": [],
   "source": [
    "product_media_df = pd.DataFrame(columns=['product_media_id', 'original_product_id', 'product_id', 'general_image', 'small_image', 'large_image'])"
   ]
  },
  {
   "cell_type": "code",
   "execution_count": 288,
   "metadata": {},
   "outputs": [
    {
     "name": "stdout",
     "output_type": "stream",
     "text": [
      "    product_media_id  original_product_id product_id general_image  \\\n",
      "347             NULL                  364       NULL          NULL   \n",
      "348             NULL                  365       NULL          NULL   \n",
      "349             NULL                  366       NULL          NULL   \n",
      "350             NULL                  367       NULL          NULL   \n",
      "351             NULL                  368       NULL          NULL   \n",
      "354             NULL                  371       NULL          NULL   \n",
      "355             NULL                  372       NULL          NULL   \n",
      "\n",
      "    small_image                                        large_image  \n",
      "347        NULL  https://www.academyfence.com/images/DevXy/6122...  \n",
      "348        NULL  https://www.academyfence.com/images/DevXy/1322...  \n",
      "349        NULL  https://www.academyfence.com/images/DevXy/432x...  \n",
      "350        NULL  https://www.academyfence.com/images/DevXy/252x...  \n",
      "351        NULL  https://www.academyfence.com/images/DevXy/7892...  \n",
      "354        NULL  https://www.academyfence.com/images/DevXy/8062...  \n",
      "355        NULL  https://www.academyfence.com/images/DevXy/5742...  \n"
     ]
    },
    {
     "name": "stderr",
     "output_type": "stream",
     "text": [
      "C:\\Users\\WebDev4\\AppData\\Local\\Temp\\ipykernel_18800\\128236806.py:7: FutureWarning: Downcasting object dtype arrays on .fillna, .ffill, .bfill is deprecated and will change in a future version. Call result.infer_objects(copy=False) instead. To opt-in to the future behavior, set `pd.set_option('future.no_silent_downcasting', True)`\n",
      "  product_media_df['original_product_id'] = product_media_df['original_product_id'].fillna(0).astype(int)\n"
     ]
    }
   ],
   "source": [
    "for row in vinyl_ww_original.itertuples(index=True):\n",
    "    product_media_df.loc[row.Index, 'original_product_id'] = row.product_id \n",
    "    # large image links\n",
    "    large_image_url = 'https://www.academyfence.com/images/DevXy/' + str(row.img_large)\n",
    "    product_media_df.loc[row.Index, 'large_image'] = large_image_url.strip()\n",
    "\n",
    "product_media_df['original_product_id'] = product_media_df['original_product_id'].fillna(0).astype(int)\n",
    "product_media_df = product_media_df.fillna('NULL')\n",
    "print(product_media_df.head(7))"
   ]
  },
  {
   "cell_type": "code",
   "execution_count": 289,
   "metadata": {},
   "outputs": [],
   "source": [
    "product_media_df.to_csv(\"C:\\\\Users\\\\WebDev4\\\\Desktop\\\\afc_website\\\\db-scripts\\\\database-scripts\\\\database_csvs\\\\welded_wire\\\\vinyl\\\\vinyl_ww_product_media.csv\", index=False)"
   ]
  },
  {
   "cell_type": "code",
   "execution_count": 290,
   "metadata": {},
   "outputs": [],
   "source": [
    "shipping_details_df = pd.DataFrame(columns=['original_product_id', 'shipping_details_id', 'product_id', 'weight', 'shipping_length', 'shipping_width', 'shipping_height', 'shipping_class', 'free_shipping', 'special_shipping', 'amount_per_box', 'description'])"
   ]
  },
  {
   "cell_type": "code",
   "execution_count": 291,
   "metadata": {},
   "outputs": [
    {
     "name": "stdout",
     "output_type": "stream",
     "text": [
      "     original_product_id shipping_details_id product_id  weight  \\\n",
      "347                  364                NULL       NULL   106.0   \n",
      "348                  365                NULL       NULL   106.0   \n",
      "349                  366                NULL       NULL    33.0   \n",
      "350                  367                NULL       NULL    40.0   \n",
      "351                  368                NULL       NULL    52.0   \n",
      "354                  371                NULL       NULL    48.0   \n",
      "355                  372                NULL       NULL    72.0   \n",
      "\n",
      "    shipping_length shipping_width shipping_height shipping_class  \\\n",
      "347              16             16              49            WWF   \n",
      "348              11             11              49            WWF   \n",
      "349              11             11              49            WWF   \n",
      "350              10             10              61            WWF   \n",
      "351              10             10              73            WWF   \n",
      "354              15             15              37            WWF   \n",
      "355              15             15              49            WWF   \n",
      "\n",
      "     free_shipping  special_shipping  amount_per_box  \\\n",
      "347              0                 0               1   \n",
      "348              0                 0               1   \n",
      "349              0                 0               1   \n",
      "350              0                 0               1   \n",
      "351              0                 0               1   \n",
      "354              0                 0               1   \n",
      "355              0                 0               1   \n",
      "\n",
      "                                           description  \n",
      "347  Academy Fence Company PVC Coated Welded Wire F...  \n",
      "348  Academy Fence Company PVC Coated Welded Wire F...  \n",
      "349  Academy Fence Company PVC Coated Welded Wire F...  \n",
      "350  Academy Fence Company PVC Coated Welded Wire F...  \n",
      "351  Academy Fence Company PVC Coated Welded Wire F...  \n",
      "354  Academy Fence Company PVC Coated Welded Wire F...  \n",
      "355  Academy Fence Company PVC Coated Welded Wire F...  \n"
     ]
    },
    {
     "name": "stderr",
     "output_type": "stream",
     "text": [
      "C:\\Users\\WebDev4\\AppData\\Local\\Temp\\ipykernel_18800\\452510634.py:16: FutureWarning: Downcasting object dtype arrays on .fillna, .ffill, .bfill is deprecated and will change in a future version. Call result.infer_objects(copy=False) instead. To opt-in to the future behavior, set `pd.set_option('future.no_silent_downcasting', True)`\n",
      "  shipping_details_df['original_product_id'] = shipping_details_df['original_product_id'].fillna(0).astype(int)\n",
      "C:\\Users\\WebDev4\\AppData\\Local\\Temp\\ipykernel_18800\\452510634.py:17: FutureWarning: Downcasting object dtype arrays on .fillna, .ffill, .bfill is deprecated and will change in a future version. Call result.infer_objects(copy=False) instead. To opt-in to the future behavior, set `pd.set_option('future.no_silent_downcasting', True)`\n",
      "  shipping_details_df = shipping_details_df.fillna('NULL')\n"
     ]
    }
   ],
   "source": [
    "# SHIPPING DETAILS DATAFRAME\n",
    "\n",
    "for row in vinyl_ww_original.itertuples(index=True):\n",
    "    shipping_details_df.loc[row.Index, 'original_product_id'] = row.product_id  \n",
    "    shipping_details_df.loc[row.Index, 'shipping_length'] = row.ship_length\n",
    "    shipping_details_df.loc[row.Index, 'shipping_width'] = row.ship_width\n",
    "    shipping_details_df.loc[row.Index, 'shipping_height'] = row.ship_height\n",
    "    shipping_details_df.loc[row.Index, 'weight'] = row.weight_lbs\n",
    "    shipping_details_df.loc[row.Index, 'free_shipping'] = 0\n",
    "    shipping_details_df.loc[row.Index, 'special_shipping'] = 0\n",
    "    shipping_details_df.loc[row.Index, 'amount_per_box'] = 1\n",
    "    shipping_details_df.loc[row.Index, 'shipping_class'] = row.shipping_class.strip()\n",
    "    shipping_details_df.loc[row.Index, 'description'] = \"Academy Fence Company PVC Coated Welded Wire Fence\"\n",
    "        \n",
    "\n",
    "shipping_details_df['original_product_id'] = shipping_details_df['original_product_id'].fillna(0).astype(int)\n",
    "shipping_details_df = shipping_details_df.fillna('NULL')\n",
    "print(shipping_details_df.head(7))"
   ]
  },
  {
   "cell_type": "code",
   "execution_count": 292,
   "metadata": {},
   "outputs": [],
   "source": [
    "shipping_details_df.to_csv('C:\\\\Users\\\\WebDev4\\\\Desktop\\\\afc_website\\\\db-scripts\\\\database-scripts\\\\database_csvs\\\\welded_wire\\\\vinyl\\\\vinyl_ww_shipping_details.csv', index=False)"
   ]
  }
 ],
 "metadata": {
  "kernelspec": {
   "display_name": "Python 3 (ipykernel)",
   "language": "python",
   "name": "python3"
  },
  "language_info": {
   "codemirror_mode": {
    "name": "ipython",
    "version": 3
   },
   "file_extension": ".py",
   "mimetype": "text/x-python",
   "name": "python",
   "nbconvert_exporter": "python",
   "pygments_lexer": "ipython3",
   "version": "3.13.0"
  }
 },
 "nbformat": 4,
 "nbformat_minor": 2
}
