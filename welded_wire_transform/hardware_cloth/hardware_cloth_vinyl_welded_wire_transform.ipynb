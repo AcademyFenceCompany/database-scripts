{
 "cells": [
  {
   "cell_type": "code",
   "execution_count": 460,
   "metadata": {},
   "outputs": [],
   "source": [
    "import pandas as pd"
   ]
  },
  {
   "cell_type": "code",
   "execution_count": 461,
   "metadata": {},
   "outputs": [
    {
     "name": "stdout",
     "output_type": "stream",
     "text": [
      "   product_id                       product_name  \\\n",
      "0         543  Hardware Cloth - Vinyl PVC Coated   \n",
      "1         545  Hardware Cloth - Vinyl PVC Coated   \n",
      "2         552  Hardware Cloth - Vinyl PVC Coated   \n",
      "3         553  Hardware Cloth - Vinyl PVC Coated   \n",
      "4         554  Hardware Cloth - Vinyl PVC Coated   \n",
      "\n",
      "                                            seo_name  desc_short  desc_long  \\\n",
      "0                    hardware-cloth-vinyl-pvc-coated         NaN        NaN   \n",
      "1  hardware-cloth-vinyl-pvc-coated-24in-x-25ft-1/...         NaN        NaN   \n",
      "2  hardware-cloth-vinyl-pvc-coated-36in-x-25ft-1/...         NaN        NaN   \n",
      "3  hardware-cloth-vinyl-pvc-coated-48in-x-25ft-1/...         NaN        NaN   \n",
      "4  hardware-cloth-vinyl-pvc-coated-24in-x-25ft-1/...         NaN        NaN   \n",
      "\n",
      "   color       item_no  master_model     parent  cat_id_fk  ...  \\\n",
      "0    NaN      AFCHWCVC             1        NaN        NaN  ...   \n",
      "1  Green  WW15192524GR             0  WW551924V        NaN  ...   \n",
      "2  Green  WW15192536GR             0  WW551936V        NaN  ...   \n",
      "3  Green  WW15192548GR             0  WW551948V        NaN  ...   \n",
      "4  Black  WW15192524BK             0  WW551924V        NaN  ...   \n",
      "\n",
      "   product_relatives  meta_title  \\\n",
      "0                NaN         NaN   \n",
      "1                NaN         NaN   \n",
      "2                NaN         NaN   \n",
      "3                NaN         NaN   \n",
      "4                NaN         NaN   \n",
      "\n",
      "                                       meta_keywords  add_keywords  \\\n",
      "0                                                NaN           NaN   \n",
      "1  1/2 x 1/2, welded wire, 24 x 25, 19 gauge, gre...           NaN   \n",
      "2  1/2 x 1/2, welded wire, 36 x 25, 19 gauge, gre...           NaN   \n",
      "3  1/2 x 1/2, welded wire, 48 x 25, 19 gauge, gre...           NaN   \n",
      "4  1/2 x 1/2, welded wire, 24 x 25, 19 gauge, bla...           NaN   \n",
      "\n",
      "                         meta_description          display_size_2  \\\n",
      "0                                     NaN                     NaN   \n",
      "1   High quality welded wire on sale now!  1/2in x 1/2in 19 Gauge   \n",
      "2   High quality welded wire on sale now!  1/2in x 1/2in 19 Gauge   \n",
      "3   High quality welded wire on sale now!  1/2in x 1/2in 19 Gauge   \n",
      "4  High quality welded wire on sale now!   1/2in x 1/2in 19 Gauge   \n",
      "\n",
      "   free_shipping special_shipping  amount_per_box  class  \n",
      "0              0                0             NaN    WWF  \n",
      "1              0                1             1.0    WWF  \n",
      "2              0                1             1.0    WWF  \n",
      "3              0                1             1.0    WWF  \n",
      "4              0                1             NaN    WWF  \n",
      "\n",
      "[5 rows x 57 columns]\n"
     ]
    }
   ],
   "source": [
    "# BASE_DIR = os.getcwd()\n",
    "# csv_path = f\"welded_wire_transform\\\\galvanized\\\\galvanized_ww_original.csv\"\n",
    "\n",
    "# galvanized_ww_orginal_df = pd.read_csv(os.path.join(BASE_DIR, csv_path))\n",
    "\n",
    "hardware_cloth_ww_orginal_df = pd.read_csv(\"C:\\\\Users\\\\WebDev4\\\\Desktop\\\\afc_website\\\\db-scripts\\\\database-scripts\\\\welded_wire_transform\\\\hardware_cloth\\\\hardware_cloth_vinyl_ww_original.csv\")\n",
    "print(hardware_cloth_ww_orginal_df.head())"
   ]
  },
  {
   "cell_type": "code",
   "execution_count": null,
   "metadata": {},
   "outputs": [],
   "source": [
    "hardware_cloth_ww_orginal_df = hardware_cloth_ww_orginal_df.rename(columns={'class': 'shipping_class'})\n",
    "hardware_cloth_ww_orginal_df = hardware_cloth_ww_orginal_df.fillna('NULL')\n",
    "print(hardware_cloth_ww_orginal_df.head())"
   ]
  },
  {
   "cell_type": "code",
   "execution_count": 463,
   "metadata": {},
   "outputs": [],
   "source": [
    "products_df = pd.DataFrame(columns=['original_product_id', 'product_id', 'product_name', 'item_no', 'cost', 'price_per_unit', 'shippable', 'family_category_id', 'description'])"
   ]
  },
  {
   "cell_type": "code",
   "execution_count": null,
   "metadata": {},
   "outputs": [],
   "source": [
    "for row in hardware_cloth_ww_orginal_df.itertuples(index=True):\n",
    "    products_df.loc[row.Index, 'original_product_id'] = 'NULL' if row.product_id =='NULL' else int(row.product_id)\n",
    "    products_df.loc[row.Index, 'product_name'] = row.product_name.strip()\n",
    "    products_df.loc[row.Index, 'item_no'] = row.item_no.strip()\n",
    "    products_df.loc[row.Index, 'cost'] = 'NULL' if row.cost == 0 or row.cost == 0.00 else row.cost\n",
    "    products_df.loc[row.Index, 'price_per_unit'] = 'NULL' if row.price == 0 or row.price == 0.00 else row.price\n",
    "    products_df.loc[row.Index, 'shippable'] = 1\n",
    "    products_df.loc[row.Index, 'family_category_id'] = 5\n",
    "    products_df.loc[row.Index, 'description'] = \"Academy Vinyl PVC Hardware Cloth manufacture this product so it’s flexible and will not crack when the wire is bent. It maintains its properties in hot and cold temperatures. This makes a very strong, durable rust resistant wire mesh resistant to both weather and chemicals. The vinyl  PVC coating also protects the wire from water and other corrosive elements. The hot dipped zinc (galvanized) coating that protects the underlying steel core, makes it a superior long lasting product. UV inhibitors retard degradation from sunlight. Academy Vinyl PVC Hardware Cloth coated welded wire mesh fence has the longest lifetime for any application. Our process yields a significant and noticeable difference when compared to other welded wire products available.\".strip()\n",
    "\n",
    "products_df = products_df.fillna('NULL')\n",
    "print(products_df.head())\n"
   ]
  },
  {
   "cell_type": "code",
   "execution_count": 465,
   "metadata": {},
   "outputs": [],
   "source": [
    "products_df.to_csv(\"C:\\\\Users\\\\WebDev4\\\\Desktop\\\\afc_website\\\\db-scripts\\\\database-scripts\\\\database_csvs\\\\welded_wire\\\\hardware_cloth_vinyl\\\\hardware_cloth_vinyl_ww_products.csv\", index=False)"
   ]
  },
  {
   "cell_type": "code",
   "execution_count": 509,
   "metadata": {},
   "outputs": [],
   "source": [
    "product_details_df = pd.DataFrame(columns=['original_product_id', 'family_category_id', 'product_details_id', 'product_id', 'size1', 'size2', 'size3', 'style', 'speciality', 'material', 'spacing', 'color', 'coating'])"
   ]
  },
  {
   "cell_type": "code",
   "execution_count": 510,
   "metadata": {},
   "outputs": [
    {
     "name": "stderr",
     "output_type": "stream",
     "text": [
      "C:\\Users\\WebDev4\\AppData\\Local\\Temp\\ipykernel_18800\\2236567697.py:35: FutureWarning: Downcasting object dtype arrays on .fillna, .ffill, .bfill is deprecated and will change in a future version. Call result.infer_objects(copy=False) instead. To opt-in to the future behavior, set `pd.set_option('future.no_silent_downcasting', True)`\n",
      "  product_details_df = product_details_df.fillna('NULL')\n"
     ]
    }
   ],
   "source": [
    "# PRODUCT DETAILS DATAFRAME\n",
    "\n",
    "for row in hardware_cloth_ww_orginal_df.itertuples(index=True):\n",
    "    product_details_df.loc[row.Index, 'original_product_id'] = 'NULL' if row.product_id =='NULL' else int(row.product_id)\n",
    "\n",
    "    # length x height\n",
    "    len_h = row.size.replace(\"in\", \" in.\").strip()\n",
    "    len_h= len_h.replace(\"ft\", \" ft.\").strip()\n",
    "    product_details_df.loc[row.Index, 'size1'] = len_h\n",
    "    # print(row.product_id, len_h)\n",
    "\n",
    "    # mesh size\n",
    "    mesh_size_arr = row.display_size_2.split(\" \")[0:3]\n",
    "    mesh_size = ''.join(x + ' ' for x in mesh_size_arr)\n",
    "    mesh_size = mesh_size.replace(\"in\", \" in.\").strip()\n",
    "    mesh_size = mesh_size.replace(\"-\", \" \")\n",
    "    # print(row.product_id, mesh_size)\n",
    "\n",
    "    product_details_df.loc[row.Index, 'size2'] = mesh_size\n",
    "\n",
    "    # guage size\n",
    "    guage_size_arr = row.display_size_2.split(\" \")[3:]\n",
    "    guage_size = ''.join(x + ' ' for x in guage_size_arr).strip()\n",
    "    # print(row.product_id, guage_size)\n",
    "    product_details_df.loc[row.Index, 'size3'] = guage_size\n",
    "\n",
    "    product_details_df.loc[row.Index, 'material'] = \"Hot Dipped Galvanized Before Welding (GBW) Steel Core\"\n",
    "    product_details_df.loc[row.Index, 'color'] = row.color.strip()\n",
    "    # print(row.product_id,  row.color)\n",
    "    product_details_df.loc[row.Index, 'coating'] = \"High Quality Vinyl PVC\"\n",
    "\n",
    "    product_details_df.loc[row.Index, 'family_category_id'] = 5\n",
    "\n",
    " \n",
    "product_details_df = product_details_df.fillna('NULL')\n",
    "# print(product_details_df.head(7))"
   ]
  },
  {
   "cell_type": "code",
   "execution_count": 511,
   "metadata": {},
   "outputs": [],
   "source": [
    "product_details_df.to_csv(\"C:\\\\Users\\\\WebDev4\\\\Desktop\\\\afc_website\\\\db-scripts\\\\database-scripts\\\\database_csvs\\\\welded_wire\\\\hardware_cloth_vinyl\\\\hardware_cloth_vinyl_ww_product_details.csv\", index=False)"
   ]
  },
  {
   "cell_type": "code",
   "execution_count": null,
   "metadata": {},
   "outputs": [],
   "source": []
  },
  {
   "cell_type": "code",
   "execution_count": 506,
   "metadata": {},
   "outputs": [],
   "source": [
    "product_media_df = pd.DataFrame(columns=['product_media_id', 'original_product_id', 'family_category_id', 'product_id', 'general_image', 'small_image', 'large_image'])"
   ]
  },
  {
   "cell_type": "code",
   "execution_count": null,
   "metadata": {},
   "outputs": [],
   "source": [
    "for row in hardware_cloth_ww_orginal_df.itertuples(index=True):\n",
    "    product_media_df.loc[row.Index, 'original_product_id'] = row.product_id \n",
    "    # large image links\n",
    "    large_image_url = 'NULL' if str(row.img_large) == 'NULL' else 'https://www.academyfence.com/images/DevXy/' + str(row.img_large)\n",
    "    # print(row.img_large)\n",
    "    # print(large_image_url)\n",
    "    product_media_df.loc[row.Index, 'large_image'] = large_image_url.strip()\n",
    "    product_media_df.loc[row.Index, 'family_category_id'] = 5\n",
    "\n",
    "product_media_df['original_product_id'] = product_media_df['original_product_id'].fillna(0).astype(int)\n",
    "product_media_df = product_media_df.fillna('NULL')\n",
    "print(product_media_df)"
   ]
  },
  {
   "cell_type": "code",
   "execution_count": 508,
   "metadata": {},
   "outputs": [],
   "source": [
    "product_media_df.to_csv(\"C:\\\\Users\\\\WebDev4\\\\Desktop\\\\afc_website\\\\db-scripts\\\\database-scripts\\\\database_csvs\\\\welded_wire\\\\hardware_cloth_vinyl\\\\hardware_cloth_vinyl_ww_product_media.csv\", index=False)"
   ]
  },
  {
   "cell_type": "code",
   "execution_count": 494,
   "metadata": {},
   "outputs": [],
   "source": [
    "shipping_details_df = pd.DataFrame(columns=['original_product_id', 'family_category_id', 'shipping_details_id', 'product_id', 'weight', 'shipping_length', 'shipping_width', 'shipping_height', 'shipping_class', 'free_shipping', 'special_shipping', 'amount_per_box', 'description'])"
   ]
  },
  {
   "cell_type": "code",
   "execution_count": null,
   "metadata": {},
   "outputs": [],
   "source": [
    "# SHIPPING DETAILS DATAFRAME\n",
    "for row in hardware_cloth_ww_orginal_df.itertuples(index=True):\n",
    "    shipping_details_df.loc[row.Index, 'original_product_id'] = 'NULL' if row.product_id =='NULL' else int(row.product_id)\n",
    "    shipping_details_df.loc[row.Index, 'shipping_length'] = row.ship_length\n",
    "    shipping_details_df.loc[row.Index, 'shipping_width'] = row.ship_width\n",
    "    shipping_details_df.loc[row.Index, 'shipping_height'] = row.ship_height\n",
    "    shipping_details_df.loc[row.Index, 'weight'] = row.weight_lbs\n",
    "    shipping_details_df.loc[row.Index, 'free_shipping'] = 0\n",
    "    shipping_details_df.loc[row.Index, 'special_shipping'] = 0\n",
    "    shipping_details_df.loc[row.Index, 'amount_per_box'] = 1\n",
    "    shipping_details_df.loc[row.Index, 'shipping_class'] = row.shipping_class.strip()\n",
    "    shipping_details_df.loc[row.Index, 'description'] = \"Academy Fence Company Hardware Cloth - Vinyl PVC Welded Wire Fence\"\n",
    "\n",
    "    shipping_details_df.loc[row.Index, 'family_category_id'] = 5\n",
    "\n",
    "shipping_details_df['original_product_id'] = shipping_details_df['original_product_id'].fillna(0).astype(int)\n",
    "shipping_details_df = shipping_details_df.fillna('NULL')\n",
    "print(shipping_details_df)"
   ]
  },
  {
   "cell_type": "code",
   "execution_count": 498,
   "metadata": {},
   "outputs": [],
   "source": [
    "shipping_details_df.to_csv(\"C:\\\\Users\\\\WebDev4\\\\Desktop\\\\afc_website\\\\db-scripts\\\\database-scripts\\\\database_csvs\\\\welded_wire\\\\hardware_cloth_vinyl\\\\hardware_cloth_vinyl_ww_shipping_detail.csv\", index=False)"
   ]
  }
 ],
 "metadata": {
  "kernelspec": {
   "display_name": "Python 3 (ipykernel)",
   "language": "python",
   "name": "python3"
  },
  "language_info": {
   "codemirror_mode": {
    "name": "ipython",
    "version": 3
   },
   "file_extension": ".py",
   "mimetype": "text/x-python",
   "name": "python",
   "nbconvert_exporter": "python",
   "pygments_lexer": "ipython3",
   "version": "3.13.0"
  }
 },
 "nbformat": 4,
 "nbformat_minor": 2
}
