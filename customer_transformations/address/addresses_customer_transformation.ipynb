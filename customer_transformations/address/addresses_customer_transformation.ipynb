{
 "cells": [
  {
   "cell_type": "code",
   "execution_count": 2,
   "metadata": {},
   "outputs": [],
   "source": [
    "import pandas as pd"
   ]
  },
  {
   "cell_type": "code",
   "execution_count": null,
   "metadata": {},
   "outputs": [],
   "source": [
    "address_original_df = pd.read_csv(\"C:\\\\Users\\\\WebDev4\\\\Desktop\\\\afc_website\\\\db-scripts\\\\database-scripts\\\\customer_transformations\\\\address\\\\cust_addresses_original.csv\")\n",
    "address_original_df.head()"
   ]
  },
  {
   "cell_type": "code",
   "execution_count": 8,
   "metadata": {},
   "outputs": [],
   "source": [
    "address_transform_df = address_original_df.rename(columns={\"cust_id\": \"original_customer_id\", \"addr_name\" : \"address_name\", \"addr_address\" : \"address_1\", \"addr_address2\" : \"address_2\", \n",
    "\"addr_city\" : \"city\", \"addr_state\" : \"state\", \"addr_postcode\" : \"zipcode\",\n",
    "\"addr_shipping\" : \"address_shipping\", \"addr_billing\" : \"address_billing\"})"
   ]
  },
  {
   "cell_type": "code",
   "execution_count": null,
   "metadata": {},
   "outputs": [],
   "source": [
    "address_transform_df = address_transform_df.fillna('NULL')\n",
    "address_transform_df"
   ]
  },
  {
   "cell_type": "code",
   "execution_count": 12,
   "metadata": {},
   "outputs": [],
   "source": [
    "address_transform_df.to_csv(\"C:\\\\Users\\\\WebDev4\\\\Desktop\\\\afc_website\\\\db-scripts\\\\database-scripts\\\\database_csvs\\\\customer_info\\\\customer_addresses_trans.csv\")"
   ]
  }
 ],
 "metadata": {
  "kernelspec": {
   "display_name": "Python 3",
   "language": "python",
   "name": "python3"
  },
  "language_info": {
   "codemirror_mode": {
    "name": "ipython",
    "version": 3
   },
   "file_extension": ".py",
   "mimetype": "text/x-python",
   "name": "python",
   "nbconvert_exporter": "python",
   "pygments_lexer": "ipython3",
   "version": "3.13.0"
  }
 },
 "nbformat": 4,
 "nbformat_minor": 2
}
