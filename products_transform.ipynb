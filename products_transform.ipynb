{
 "cells": [
  {
   "cell_type": "code",
   "execution_count": 2,
   "id": "53ea2f60-0dcb-4456-bd1b-64f2eb98ab19",
   "metadata": {},
   "outputs": [],
   "source": [
    "import pandas as pd"
   ]
  },
  {
   "cell_type": "code",
   "execution_count": 19,
   "id": "4838393e-c3d7-481c-a9bb-e828ea1aa857",
   "metadata": {},
   "outputs": [],
   "source": [
    "# Export data from products table in old database in place in root directory, named as products_ORIGINAL.csv\n",
    "original_products_df = pd.read_csv(\"C:\\\\Users\\\\WebDev4\\\\Desktop\\\\afc_website\\\\db-scripts\\\\database-scripts\\\\products_ORIGINAL.csv\", low_memory=False)\n"
   ]
  },
  {
   "cell_type": "code",
   "execution_count": null,
   "id": "7407e020-3bb3-40df-a8d6-355944e13e18",
   "metadata": {},
   "outputs": [],
   "source": [
    "# FENCE SLATS DF\n",
    "\n",
    "fence_slats_original = original_products_df[original_products_df['product_name'].str.contains('slats', case=False, na=False)]\n",
    "fence_slats_original = fence_slats_original.rename(columns={'class': 'shipping_class'})\n",
    "fence_slats_original.to_csv('C:\\\\Users\\\\WebDev4\\\\Desktop\\\\afc_website\\\\db-scripts\\\\database-scripts\\\\fence_slats_original.csv')\n",
    "print(fence_slats_original.head(1))"
   ]
  },
  {
   "cell_type": "code",
   "execution_count": 101,
   "id": "dcc6659f-78de-469e-a57d-e94f26928273",
   "metadata": {},
   "outputs": [],
   "source": [
    "products_df = pd.DataFrame(columns=['original_product_id', 'product_id', 'product_name', 'item_no', 'price_per_unit', 'shippable', 'family_category_id', 'description'])"
   ]
  },
  {
   "cell_type": "code",
   "execution_count": null,
   "id": "c9291877-45dc-4048-9ef2-e8f6ae2d5b7c",
   "metadata": {
    "scrolled": true
   },
   "outputs": [],
   "source": [
    "# ADDING FENCE SLATS TO NEW PRODUCTS TABLE (DATAFRAME TO BE EXPORTED)\n",
    "\n",
    "# Loop through fence_slats_original and add it to products_df \n",
    "for row in fence_slats_original.itertuples(index=True):\n",
    "    products_df.loc[row.Index, 'original_product_id'] = row.product_id  \n",
    "    products_df.loc[row.Index, 'product_name'] = row.product_name\n",
    "    products_df.loc[row.Index, 'item_no'] = row.item_no\n",
    "    products_df.loc[row.Index, 'price_per_unit'] = row.price\n",
    "    products_df.loc[row.Index, 'shippable'] = row.shipable\n",
    "\n",
    "# Format columns to correct dtypes\n",
    "products_df['original_product_id'] = products_df['original_product_id'].fillna('NULL').astype(int)\n",
    "\n",
    "# Fill all empty values with NULL for database purposes\n",
    "products_df = products_df.fillna('NULL')\n",
    "print(products_df.head())"
   ]
  },
  {
   "cell_type": "code",
   "execution_count": null,
   "id": "b9f07a8f",
   "metadata": {},
   "outputs": [
    {
     "name": "stderr",
     "output_type": "stream",
     "text": [
      "<>:1: SyntaxWarning: invalid escape sequence '\\d'\n",
      "<>:1: SyntaxWarning: invalid escape sequence '\\d'\n",
      "C:\\Users\\WebDev4\\AppData\\Local\\Temp\\ipykernel_18800\\1788812876.py:1: SyntaxWarning: invalid escape sequence '\\d'\n",
      "  products_df.to_csv(\"C:\\\\Users\\\\WebDev4\\\\Desktop\\\\afc_website\\db-scripts\\\\database-scripts\\\\database_csvs\\\\fence_slats\\\\fence-slats-products.csv\", index=False)\n"
     ]
    }
   ],
   "source": [
    "# Exporting products to csv to be imported in database\n",
    "\n",
    "products_df.to_csv(\"C:\\\\Users\\\\WebDev4\\\\Desktop\\\\afc_website\\db-scripts\\\\database-scripts\\\\database_csvs\\\\fence_slats\\\\fence-slats-products.csv\", index=False)"
   ]
  },
  {
   "cell_type": "code",
   "execution_count": null,
   "id": "55786b6d-2181-4041-b4a4-2ad62be65307",
   "metadata": {},
   "outputs": [],
   "source": [
    "product_details_df = pd.DataFrame(columns=['original_product_id', 'product_details_id', 'product_id', 'size1', 'size2', 'size3', 'style', 'speciality', 'material', 'spacing', 'color', 'coating'])"
   ]
  },
  {
   "cell_type": "code",
   "execution_count": null,
   "id": "2eefb19c",
   "metadata": {},
   "outputs": [],
   "source": [
    "# PRODUCT DETAILS DATAFRAME\n",
    "\n",
    "for row in fence_slats_original.itertuples(index=True):\n",
    "    product_details_df.loc[row.Index, 'original_product_id'] = row.product_id  \n",
    "    product_details_df.loc[row.Index, 'size1'] = row.size\n",
    "    product_details_df.loc[row.Index, 'color'] = row.color\n",
    "\n",
    "    # Inserting style column values\n",
    "    if \"Winged\" in row.product_name:\n",
    "        product_details_df.loc[row.Index, 'style'] = \"Winged\"\n",
    "    if \"Top-Lock\" in row.product_name:\n",
    "        product_details_df.loc[row.Index, 'style'] = \"Top-Lock\"\n",
    "    if \"Hedge\" in row.product_name:\n",
    "        product_details_df.loc[row.Index, 'style'] = \"Perma-Hedge\"\n",
    "\n",
    "\n",
    "product_details_df['original_product_id'] = product_details_df['original_product_id'].fillna(0).astype(int)\n",
    "product_details_df = product_details_df.fillna('NULL')\n",
    "print(product_details_df.head(7))"
   ]
  },
  {
   "cell_type": "code",
   "execution_count": 105,
   "id": "4d13fb76",
   "metadata": {},
   "outputs": [],
   "source": [
    "shipping_details_df = pd.DataFrame(columns=['original_product_id', 'shipping_details_id', 'product_id', 'weight', 'shipping_length', 'shipping_width', 'shipping_height', 'shipping_class', 'description'])"
   ]
  },
  {
   "cell_type": "code",
   "execution_count": null,
   "id": "87247571",
   "metadata": {},
   "outputs": [],
   "source": [
    "# SHIPPING DETAILS DATAFRAME\n",
    "\n",
    "for row in fence_slats_original.itertuples(index=True):\n",
    "    shipping_details_df.loc[row.Index, 'original_product_id'] = row.product_id  \n",
    "    shipping_details_df.loc[row.Index, 'shipping_length'] = row.ship_length\n",
    "    shipping_details_df.loc[row.Index, 'shipping_width'] = row.ship_width\n",
    "    shipping_details_df.loc[row.Index, 'shipping_height'] = row.ship_height\n",
    "    shipping_details_df.loc[row.Index, 'weight'] = row.weight_lbs\n",
    "    shipping_details_df.loc[row.Index, 'shipping_class'] = row.shipping_class\n",
    "        \n",
    "\n",
    "shipping_details_df['original_product_id'] = shipping_details_df['original_product_id'].fillna(0).astype(int)\n",
    "shipping_details_df = shipping_details_df.fillna('NULL')\n",
    "print(shipping_details_df.head(7))"
   ]
  },
  {
   "cell_type": "code",
   "execution_count": null,
   "id": "c37520a1",
   "metadata": {},
   "outputs": [],
   "source": [
    "product_media_df = pd.DataFrame(columns=['product_media_id', 'original_product_id', 'product_id', 'general_image', 'small_image', 'large_image'])"
   ]
  },
  {
   "cell_type": "code",
   "execution_count": 111,
   "id": "2ec0533a",
   "metadata": {},
   "outputs": [
    {
     "name": "stdout",
     "output_type": "stream",
     "text": [
      "     original_product_id product_media_id product_id general_image  \\\n",
      "352                  369             NULL       NULL          NULL   \n",
      "353                  370             NULL       NULL          NULL   \n",
      "356                  373             NULL       NULL          NULL   \n",
      "357                  374             NULL       NULL          NULL   \n",
      "358                  375             NULL       NULL          NULL   \n",
      "359                  376             NULL       NULL          NULL   \n",
      "360                  377             NULL       NULL          NULL   \n",
      "\n",
      "    small_image large_image  \n",
      "352        NULL        NULL  \n",
      "353        NULL        NULL  \n",
      "356        NULL        NULL  \n",
      "357        NULL        NULL  \n",
      "358        NULL        NULL  \n",
      "359        NULL        NULL  \n",
      "360        NULL        NULL  \n"
     ]
    }
   ],
   "source": [
    "for row in fence_slats_original.itertuples(index=True):\n",
    "    product_media_df.loc[row.Index, 'original_product_id'] = row.product_id \n",
    "\n",
    "product_media_df = product_media_df.fillna('NULL')\n",
    "print(product_media_df.head(7))"
   ]
  },
  {
   "cell_type": "code",
   "execution_count": null,
   "id": "c42d66cd",
   "metadata": {},
   "outputs": [],
   "source": []
  }
 ],
 "metadata": {
  "kernelspec": {
   "display_name": "Python 3 (ipykernel)",
   "language": "python",
   "name": "python3"
  },
  "language_info": {
   "codemirror_mode": {
    "name": "ipython",
    "version": 3
   },
   "file_extension": ".py",
   "mimetype": "text/x-python",
   "name": "python",
   "nbconvert_exporter": "python",
   "pygments_lexer": "ipython3",
   "version": "3.13.0"
  }
 },
 "nbformat": 4,
 "nbformat_minor": 5
}
