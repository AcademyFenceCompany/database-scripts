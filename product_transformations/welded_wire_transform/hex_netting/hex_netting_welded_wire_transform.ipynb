{
 "cells": [
  {
   "cell_type": "code",
   "execution_count": 5,
   "metadata": {},
   "outputs": [],
   "source": [
    "import pandas as pd"
   ]
  },
  {
   "cell_type": "code",
   "execution_count": null,
   "metadata": {},
   "outputs": [],
   "source": [
    "# BASE_DIR = os.getcwd()\n",
    "# csv_path = f\"welded_wire_transform\\\\galvanized\\\\galvanized_ww_original.csv\"\n",
    "\n",
    "# galvanized_ww_orginal_df = pd.read_csv(os.path.join(BASE_DIR, csv_path))\n",
    "\n",
    "hex_netting_ww_orginal_df = pd.read_csv(\"C:\\\\Users\\\\WebDev4\\\\Desktop\\\\afc_website\\db-scripts\\\\database-scripts\\welded_wire_transform\\\\hex_netting\\\\hex_netting_ww_original.csv\")\n",
    "print(hex_netting_ww_orginal_df.head())"
   ]
  },
  {
   "cell_type": "code",
   "execution_count": null,
   "metadata": {},
   "outputs": [],
   "source": [
    "hex_netting_ww_orginal_df = hex_netting_ww_orginal_df.rename(columns={'class': 'shipping_class'})\n",
    "hex_netting_ww_orginal_df = hex_netting_ww_orginal_df.fillna('NULL')\n",
    "print(hex_netting_ww_orginal_df.head())"
   ]
  },
  {
   "cell_type": "code",
   "execution_count": 28,
   "metadata": {},
   "outputs": [],
   "source": [
    "products_df = pd.DataFrame(columns=['original_product_id', 'product_id', 'product_name', 'item_no', 'cost', 'price_per_unit', 'shippable', 'family_category_id', 'subcategory_id', 'description'])"
   ]
  },
  {
   "cell_type": "code",
   "execution_count": null,
   "metadata": {},
   "outputs": [],
   "source": [
    "for row in hex_netting_ww_orginal_df.itertuples(index=True):\n",
    "    products_df.loc[row.Index, 'original_product_id'] = 'NULL' if row.product_id =='NULL' else int(row.product_id)\n",
    "    products_df.loc[row.Index, 'product_name'] = row.product_name.strip()\n",
    "    products_df.loc[row.Index, 'item_no'] = row.item_no.upper().strip()\n",
    "    products_df.loc[row.Index, 'cost'] = 'NULL' if row.cost == 0 or row.cost == 0.00 else row.cost\n",
    "    products_df.loc[row.Index, 'price_per_unit'] = 'NULL' if row.price == 0 or row.price == 0.00 else row.price\n",
    "    products_df.loc[row.Index, 'shippable'] = 1\n",
    "\n",
    "    products_df.loc[row.Index, 'family_category_id'] = 1\n",
    "\n",
    "    if \"Vinyl PVC Coated\" in row.product_name:\n",
    "        name = 7\n",
    "    if \"Galvanized\" in row.product_name:\n",
    "        name = 8\n",
    "    if \"Sample\" in row.product_name:\n",
    "        name = 6\n",
    "    products_df.loc[row.Index, 'subcategory_id'] = name\n",
    "    \n",
    "    products_df.loc[row.Index, 'description'] = \"Academy Vinyl Coated Hex Netting (AKA Chicken Wire) is a cost effective means of building wire cages, enclosures, traps, etc. Our protective Vinyl PVC coating makes PVC wire last many years longer than an uncoated wire. Academy Vinyl PVC color coating (Black, Green) meets strict standards starting with full strength steel core wire. Black wire is heated and then slowly cooled to increase strength and hardness. It then undergoes a surface treatment to remove any superficial impurities, before being galvanized. The wire is galvanized and welded together to the proper size and then PVC coated. For a fraction of the cost of alternative materials you can build enclosures for a range of applications. Also, the wire can be attached to existing fencing, such as Post and Rail (or along the bottom to achieve a critter control barrier, or to keep your pets or children in). We have it available in various widths and heights.\".strip()\n",
    "\n",
    "products_df = products_df.fillna('NULL')\n",
    "print(products_df.head())\n"
   ]
  },
  {
   "cell_type": "code",
   "execution_count": 30,
   "metadata": {},
   "outputs": [],
   "source": [
    "products_df.to_csv(\"C:\\\\Users\\\\WebDev4\\\\Desktop\\\\afc_website\\\\db-scripts\\\\database-scripts\\\\database_csvs\\\\welded_wire\\\\hex_netting\\\\hex_netting_ww_products.csv\", index=False)"
   ]
  },
  {
   "cell_type": "code",
   "execution_count": 11,
   "metadata": {},
   "outputs": [],
   "source": [
    "product_details_df = pd.DataFrame(columns=['original_product_id', 'family_category_id', 'product_details_id', 'product_id', 'size1', 'size2', 'size3', 'style', 'speciality', 'material', 'spacing', 'color', 'coating'])"
   ]
  },
  {
   "cell_type": "code",
   "execution_count": null,
   "metadata": {},
   "outputs": [],
   "source": [
    "# PRODUCT DETAILS DATAFRAME\n",
    "\n",
    "for row in hex_netting_ww_orginal_df.itertuples(index=True):\n",
    "    product_details_df.loc[row.Index, 'original_product_id'] = 'NULL' if row.product_id =='NULL' else int(row.product_id)\n",
    "\n",
    "    # length x height\n",
    "    len_h = row.size.replace(\"in\", \" in.\").strip()\n",
    "    len_h= len_h.replace(\"ft\", \" ft.\").strip()\n",
    "    product_details_df.loc[row.Index, 'size1'] = len_h\n",
    "    # print(row.product_id, len_h)\n",
    "\n",
    "    # mesh size\n",
    "    mesh_size_arr = row.display_size_2.split(\" \")[:1][0]\n",
    "    mesh_size = mesh_size_arr + \" x \" + mesh_size_arr\n",
    "    mesh_size = mesh_size.replace(\"in\", \" in.\").strip()\n",
    "    mesh_size = mesh_size.replace(\"-\", \" \")\n",
    "    # print(row.product_id, mesh_size)\n",
    "\n",
    "    product_details_df.loc[row.Index, 'size2'] = mesh_size\n",
    "\n",
    "    # guage size\n",
    "    guage_size_arr = row.display_size_2.split(\" \")[1:]\n",
    "    guage_size = ''.join(x + ' ' for x in guage_size_arr).strip()\n",
    "    # print(row.product_id, guage_size)\n",
    "    product_details_df.loc[row.Index, 'size3'] = guage_size\n",
    "\n",
    "    product_details_df.loc[row.Index, 'material'] = \"Hot Dipped Galvanized Before Welding (GBW) Steel Core\"\n",
    "    product_details_df.loc[row.Index, 'color'] = row.color.strip()\n",
    "    # print(row.product_id,  row.color)\n",
    "\n",
    "    if \"Vinyl PVC Coated\" in row.product_name:\n",
    "        coating = 'Vinyl PVC Coated'\n",
    "    if \"Galvanized\" in row.product_name:\n",
    "        coating = 'Galvanized'\n",
    "\n",
    "    product_details_df.loc[row.Index, 'coating'] = coating\n",
    "    # print(row.product_id, coating)\n",
    "\n",
    "    product_details_df.loc[row.Index, 'family_category_id'] = 6\n",
    "\n",
    " \n",
    "product_details_df = product_details_df.fillna('NULL')\n",
    "# print(product_details_df.head(7))"
   ]
  },
  {
   "cell_type": "code",
   "execution_count": 33,
   "metadata": {},
   "outputs": [],
   "source": [
    "product_details_df.to_csv(\"C:\\\\Users\\\\WebDev4\\\\Desktop\\\\afc_website\\\\db-scripts\\\\database-scripts\\\\database_csvs\\\\welded_wire\\\\hex_netting\\\\hex_netting_ww_product_details.csv\", index=False)"
   ]
  },
  {
   "cell_type": "code",
   "execution_count": 34,
   "metadata": {},
   "outputs": [],
   "source": [
    "product_media_df = pd.DataFrame(columns=['product_media_id', 'original_product_id', 'family_category_id', 'product_id', 'general_image', 'small_image', 'large_image'])"
   ]
  },
  {
   "cell_type": "code",
   "execution_count": null,
   "metadata": {},
   "outputs": [],
   "source": [
    "for row in hex_netting_ww_orginal_df.itertuples(index=True):\n",
    "    product_media_df.loc[row.Index, 'original_product_id'] = row.product_id \n",
    "\n",
    "    # large image links\n",
    "    large_image_url = 'NULL' if str(row.img_large) == 'NULL' else 'https://www.academyfence.com/images/xy/' + str(row.img_large)\n",
    "    # print(row.img_large)\n",
    "    # print(large_image_url)\n",
    "    product_media_df.loc[row.Index, 'large_image'] = large_image_url.strip()\n",
    "    product_media_df.loc[row.Index, 'family_category_id'] = 6\n",
    "\n",
    "product_media_df['original_product_id'] = product_media_df['original_product_id'].fillna(0).astype(int)\n",
    "product_media_df = product_media_df.fillna('NULL')\n",
    "print(product_media_df)"
   ]
  },
  {
   "cell_type": "code",
   "execution_count": 41,
   "metadata": {},
   "outputs": [],
   "source": [
    "product_media_df.to_csv(\"C:\\\\Users\\\\WebDev4\\\\Desktop\\\\afc_website\\\\db-scripts\\\\database-scripts\\\\database_csvs\\\\welded_wire\\\\hex_netting\\\\hex_netting_ww_product_media.csv\", index=False)"
   ]
  },
  {
   "cell_type": "code",
   "execution_count": 42,
   "metadata": {},
   "outputs": [],
   "source": [
    "shipping_details_df = pd.DataFrame(columns=['original_product_id', 'family_category_id', 'shipping_details_id', 'product_id', 'weight', 'shipping_length', 'shipping_width', 'shipping_height', 'shipping_class', 'free_shipping', 'special_shipping', 'amount_per_box', 'description'])"
   ]
  },
  {
   "cell_type": "code",
   "execution_count": null,
   "metadata": {},
   "outputs": [],
   "source": [
    "# SHIPPING DETAILS DATAFRAME\n",
    "for row in hex_netting_ww_orginal_df.itertuples(index=True):\n",
    "    shipping_details_df.loc[row.Index, 'original_product_id'] = 'NULL' if row.product_id =='NULL' else int(row.product_id)\n",
    "    shipping_details_df.loc[row.Index, 'shipping_length'] = row.ship_length\n",
    "    shipping_details_df.loc[row.Index, 'shipping_width'] = row.ship_width\n",
    "    shipping_details_df.loc[row.Index, 'shipping_height'] = row.ship_height\n",
    "    shipping_details_df.loc[row.Index, 'weight'] = row.weight_lbs\n",
    "    shipping_details_df.loc[row.Index, 'free_shipping'] = 0\n",
    "    shipping_details_df.loc[row.Index, 'special_shipping'] = 0\n",
    "    shipping_details_df.loc[row.Index, 'amount_per_box'] = 1\n",
    "    shipping_details_df.loc[row.Index, 'shipping_class'] = row.shipping_class.strip()\n",
    "    shipping_details_df.loc[row.Index, 'description'] = \"Academy Fence Company Hex Netting / Chicken Wire Fence\"\n",
    "\n",
    "    shipping_details_df.loc[row.Index, 'family_category_id'] = 6\n",
    "\n",
    "shipping_details_df['original_product_id'] = shipping_details_df['original_product_id'].fillna(0).astype(int)\n",
    "shipping_details_df = shipping_details_df.fillna('NULL')\n",
    "print(shipping_details_df)"
   ]
  },
  {
   "cell_type": "code",
   "execution_count": 44,
   "metadata": {},
   "outputs": [],
   "source": [
    "shipping_details_df.to_csv(\"C:\\\\Users\\\\WebDev4\\\\Desktop\\\\afc_website\\\\db-scripts\\\\database-scripts\\\\database_csvs\\\\welded_wire\\\\hex_netting\\\\hex_netting_ww_shipping_details.csv\", index=False)"
   ]
  }
 ],
 "metadata": {
  "kernelspec": {
   "display_name": "Python 3",
   "language": "python",
   "name": "python3"
  },
  "language_info": {
   "codemirror_mode": {
    "name": "ipython",
    "version": 3
   },
   "file_extension": ".py",
   "mimetype": "text/x-python",
   "name": "python",
   "nbconvert_exporter": "python",
   "pygments_lexer": "ipython3",
   "version": "3.13.0"
  }
 },
 "nbformat": 4,
 "nbformat_minor": 2
}
