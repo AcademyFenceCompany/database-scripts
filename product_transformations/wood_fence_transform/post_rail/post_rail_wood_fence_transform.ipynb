{
 "cells": [
  {
   "cell_type": "code",
   "execution_count": 18,
   "metadata": {},
   "outputs": [],
   "source": [
    "import pandas as pd\n",
    "import re"
   ]
  },
  {
   "cell_type": "code",
   "execution_count": null,
   "metadata": {},
   "outputs": [],
   "source": [
    "post_rail_wood_original_df = pd.read_csv(\"C:\\\\Users\\\\WebDev4\\\\Desktop\\\\afc_website\\\\db-scripts\\\\database-scripts\\\\product_transformations\\\\wood_fence_transform\\\\post_rail\\\\post_rail_wood_original.csv\")\n",
    "post_rail_wood_original_df = post_rail_wood_original_df.rename(columns={'class': 'shipping_class'})\n",
    "post_rail_wood_original_df = post_rail_wood_original_df.fillna('NULL')\n",
    "\n",
    "post_rail_wood_original_df"
   ]
  },
  {
   "cell_type": "code",
   "execution_count": 3,
   "metadata": {},
   "outputs": [],
   "source": [
    "products_df = pd.DataFrame(columns=['original_product_id', 'product_id', 'product_name', 'item_no', 'cost', 'price_per_unit', 'shippable', 'family_category_id', 'subcategory_id', 'description'])"
   ]
  },
  {
   "cell_type": "code",
   "execution_count": null,
   "metadata": {},
   "outputs": [],
   "source": [
    "for row in post_rail_wood_original_df.itertuples(index=True):\n",
    "    products_df.loc[row.Index, 'original_product_id'] = 'NULL' if row.product_id =='NULL' else int(row.product_id)\n",
    "\n",
    "    name = row.product_name.replace(\"1/2 in\", \"1/2\").replace(\"ft\", \" ft.\")\n",
    "    name = name.replace(\"1in\", \"1 in.\").replace(\"4in\", \"4 in.\").replace(\"6in\", \"6 in.\")\n",
    "    name = name.replace(\"Pickett\", \"Picket\").replace(\"  \", \" \")\n",
    "    name = name.replace(\"W.G.\", \"Walk Gate\").replace(\"D.G.\", \"Drive Gate\")\n",
    "    name = name.replace(\"PC\", \"Pool Code\").replace(\"-\", \" \")\n",
    "    name = \" \".join(name.split())       \n",
    "    # print(row.product_id, row.item_no, \"|\", name)         \n",
    "    products_df.loc[row.Index, 'product_name'] = name\n",
    "    products_df.loc[row.Index, 'item_no'] = row.item_no.strip()\n",
    "    products_df.loc[row.Index, 'cost'] = 'NULL' if row.cost == 0 or row.cost == 0.00 else row.cost\n",
    "    products_df.loc[row.Index, 'price_per_unit'] = 0 if row.price == 'NULL' or row.price == 0.00 else row.price\n",
    "    products_df.loc[row.Index, 'shippable'] = 0\n",
    "    products_df.loc[row.Index, 'family_category_id'] = 16\n",
    "    products_df.loc[row.Index, 'subcategory_id'] = 22\n",
    "    products_df.loc[row.Index, 'description'] = \"Academy Rustic Split Post & Rail fence comes with 11 ft. Hemlock rails (considered the best), making spaces between posts 10 feet on center. Post are made from high quality locust wood, and all posts are galvanized staple reinforced at the top. This combination results in a nice looking, long lasting fence. Post & Rail has been traditionally used for horse corrals, and other livestock enclosures. Nowadays it is used for yard and garden fences. Additionally color PVC coated welded wire is easily attached to render Post & Rail into an attractive dog enclosure, yard guard or pool code fence.\"\n",
    "\n",
    "products_df = products_df.fillna('NULL')\n",
    "products_df\n"
   ]
  },
  {
   "cell_type": "code",
   "execution_count": 7,
   "metadata": {},
   "outputs": [],
   "source": [
    "products_df.to_csv(\"C:\\\\Users\\\\WebDev4\\\\Desktop\\\\afc_website\\\\db-scripts\\\\database-scripts\\\\database_csvs\\\\wood_fence\\\\post_rail\\\\post_rail_wood_products.csv\", index=False)"
   ]
  },
  {
   "cell_type": "code",
   "execution_count": 8,
   "metadata": {},
   "outputs": [],
   "source": [
    "product_details_df = pd.DataFrame(columns=['product_details_id', 'original_product_id', 'family_category_id',  'product_id', 'size1', 'size2', 'size3', 'style', 'specialty', 'material', 'spacing', 'color', 'coating'])"
   ]
  },
  {
   "cell_type": "code",
   "execution_count": null,
   "metadata": {},
   "outputs": [],
   "source": [
    "# PRODUCT DETAILS DATAFRAME\n",
    "\n",
    "for row in post_rail_wood_original_df.itertuples(index=True):\n",
    "    product_details_df.loc[row.Index, 'original_product_id'] = 'NULL' if row.product_id =='NULL' else int(row.product_id)\n",
    "\n",
    "    # length x height - size1\n",
    "    len_h = row.size.replace(\"in\", \" in.\").replace(\"ft\", \" ft.\")\n",
    "    len_h = len_h.replace(\"3 1/2\", \"3 1/2 ft.\")\n",
    "    len_h = len_h.replace(\"ft. ft.\", \"ft.\")\n",
    "    len_h = len_h.replace(\"x6\", \"x 6\")\n",
    "    len_h = len_h.replace(\"h\", \"H\")\n",
    "    len_h = len_h.replace(\".5\", \" 1/2\")\n",
    "    len_h = \" \".join(len_h.split())\n",
    "    product_details_df.loc[row.Index, 'size1'] = len_h\n",
    "    # print(row.product_id, len_h)\n",
    "\n",
    "    # stpecialty\n",
    "    specialty = \"\"\n",
    "    two_rail = \"2 Rail\"\n",
    "    three_rail = \"3 Rail\"\n",
    "    two_hole = \"2 Hole\"\n",
    "    three_hole = \"3 Hole\"\n",
    "\n",
    "    if two_rail in row.product_name:\n",
    "        specialty = \"2 Rail\"\n",
    "    if three_rail in row.product_name:\n",
    "        specialty = \"3 Rail\"\n",
    "    if two_hole in row.product_name:\n",
    "        specialty = \"2 Hole\"\n",
    "    if three_hole in row.product_name:\n",
    "        specialty = \"3 Hole\"\n",
    "\n",
    "    product_details_df.loc[row.Index, 'specialty'] = \"NULL\" if specialty == \"\" else specialty.strip()\n",
    "    # print(row.item_no, \"|\", row.product_name,  \"|\",   product_details_df.loc[row.Index, 'specialty'])\n",
    "\n",
    "    # style\n",
    "    style = \"\"\n",
    "\n",
    "    if re.search(r\"Split.*?Rail\", row.product_name):\n",
    "        style = \"Split Rail\"\n",
    "    if re.search(r\"Round.*?Rail\", row.product_name):\n",
    "        style = \"Round Rail\"\n",
    "\n",
    "\n",
    "\n",
    "    product_details_df.loc[row.Index, 'style'] = \"NULL\" if style == \"\" else style.strip()\n",
    "    # print(row.item_no, \"|\", row.product_name, \"|\" , product_details_df.loc[row.Index, 'style'])\n",
    "    \n",
    "    # material\n",
    "    product_details_df.loc[row.Index, 'material'] = \"Cedar Wood\" if \"Round\" in row.product_name else \"Post - Locust, Rail - Hemlock\"\n",
    "\n",
    "    # color\n",
    "    product_details_df.loc[row.Index, 'color'] = \"Cedar Wood\"\n",
    "    # print(row.product_id,  row.color)\n",
    "\n",
    "    # # coating\n",
    "    # product_details_df.loc[row.Index, 'coating'] = \"NULL\"\n",
    "\n",
    "    # # spacing\n",
    "    product_details_df.loc[row.Index, 'spacing'] = \"10 ft.\"\n",
    "    # # print(row.product_name, \"|\", product_details_df.loc[row.Index, 'spacing'])\n",
    "\n",
    "    # # family_cat_id\n",
    "    product_details_df.loc[row.Index, 'family_category_id'] = 22\n",
    "\n",
    "product_details_df = product_details_df.fillna('NULL')\n",
    "product_details_df.tail(50)"
   ]
  },
  {
   "cell_type": "code",
   "execution_count": 25,
   "metadata": {},
   "outputs": [],
   "source": [
    "product_details_df.to_csv(\"C:\\\\Users\\\\WebDev4\\\\Desktop\\\\afc_website\\\\db-scripts\\\\database-scripts\\\\database_csvs\\\\wood_fence\\\\post_rail\\\\post_rail_wood_product_details.csv\", index=False)"
   ]
  },
  {
   "cell_type": "code",
   "execution_count": 30,
   "metadata": {},
   "outputs": [],
   "source": [
    "product_media_df = pd.DataFrame(columns=['product_media_id', 'original_product_id', 'family_category_id', 'product_id', 'general_image', 'small_image', 'large_image'])"
   ]
  },
  {
   "cell_type": "code",
   "execution_count": null,
   "metadata": {},
   "outputs": [],
   "source": [
    "style_spec = pd.read_csv(\"C:\\\\Users\\\\WebDev4\\\\Desktop\\\\afc_website\\\\db-scripts\\\\database-scripts\\\\database_csvs\\\\wood_fence\\\\post_rail\\\\post_rail_wood_product_details.csv\")\n",
    "style_spec = style_spec.fillna(\"NULL\")\n",
    "style_spec.tail(50)"
   ]
  },
  {
   "cell_type": "code",
   "execution_count": null,
   "metadata": {},
   "outputs": [],
   "source": [
    "for row in style_spec.itertuples(index=True):\n",
    "    product_media_df.loc[row.Index, 'original_product_id'] = row.original_product_id \n",
    "\n",
    "    # small image\n",
    "    general_image = \"\"\n",
    "\n",
    "    if row.style == \"Round Rail\":\n",
    "        if row.specialty == \"2 Rail\":\n",
    "            general_image = \"https://www.academyfence.com/images/xy/149cedarround2rail.jpg\"\n",
    "        if row.specialty == \"3 Rail\":\n",
    "            general_image = \"https://www.academyfence.com/images/xy/437cedarround3rail.jpg\"\n",
    "    if row.style == \"Split Rail\":\n",
    "        if row.specialty == \"2 Rail\":\n",
    "            general_image = \"https://www.academyfence.com/images/wood/sketch/PR3.jpg\"\n",
    "        if row.specialty == \"3 Rail\":\n",
    "            general_image = \"https://www.academyfence.com/images/wood/sketch/PR2.jpg\"\n",
    "\n",
    "    product_media_df.loc[row.Index, 'general_image'] = general_image\n",
    "    product_media_df.loc[row.Index, 'family_category_id'] = 22\n",
    "\n",
    "product_media_df = product_media_df.fillna('NULL')\n",
    "product_media_df.tail(50)\n"
   ]
  },
  {
   "cell_type": "code",
   "execution_count": 34,
   "metadata": {},
   "outputs": [],
   "source": [
    "product_media_df.to_csv(\"C:\\\\Users\\\\WebDev4\\\\Desktop\\\\afc_website\\\\db-scripts\\\\database-scripts\\\\database_csvs\\\\wood_fence\\\\post_rail\\\\post_rail_wood_product_media.csv\", index=False)"
   ]
  },
  {
   "cell_type": "code",
   "execution_count": 41,
   "metadata": {},
   "outputs": [],
   "source": [
    "shipping_details_df = pd.DataFrame(columns=['original_product_id', 'family_category_id', 'shipping_details_id', 'product_id', 'weight', 'shipping_length', 'shipping_width', 'shipping_height', 'shipping_class', 'free_shipping', 'special_shipping', 'amount_per_box', 'description'])"
   ]
  },
  {
   "cell_type": "code",
   "execution_count": null,
   "metadata": {},
   "outputs": [],
   "source": [
    "# SHIPPING DETAILS DATAFRAME\n",
    "for row in post_rail_wood_original_df.itertuples(index=True):\n",
    "    shipping_details_df.loc[row.Index, 'original_product_id'] = 'NULL' if row.product_id =='NULL' else int(row.product_id)\n",
    "    shipping_details_df.loc[row.Index, 'shipping_length'] = row.ship_length\n",
    "    shipping_details_df.loc[row.Index, 'shipping_width'] = row.ship_width\n",
    "    shipping_details_df.loc[row.Index, 'shipping_height'] = row.ship_height\n",
    "    shipping_details_df.loc[row.Index, 'weight'] = row.weight_lbs\n",
    "    shipping_details_df.loc[row.Index, 'free_shipping'] = 0\n",
    "    shipping_details_df.loc[row.Index, 'special_shipping'] = 0\n",
    "    shipping_details_df.loc[row.Index, 'amount_per_box'] = 1\n",
    "    shipping_details_df.loc[row.Index, 'shipping_class'] = row.shipping_class.strip()\n",
    "    shipping_details_df.loc[row.Index, 'description'] = \"Academy Fence Company Fence Pen Kits\"\n",
    "\n",
    "    shipping_details_df.loc[row.Index, 'family_category_id'] = 12\n",
    "\n",
    "shipping_details_df['original_product_id'] = shipping_details_df['original_product_id'].fillna(0).astype(int)\n",
    "shipping_details_df = shipping_details_df.fillna('NULL')\n",
    "print(shipping_details_df)"
   ]
  },
  {
   "cell_type": "code",
   "execution_count": 43,
   "metadata": {},
   "outputs": [],
   "source": [
    "shipping_details_df.to_csv(\"C:\\\\Users\\\\WebDev4\\\\Desktop\\\\afc_website\\\\db-scripts\\\\database-scripts\\\\database_csvs\\\\welded_wire\\\\fence_pen_kits\\\\fence_pen_kits_ww_shipping_details.csv\", index=False)"
   ]
  }
 ],
 "metadata": {
  "kernelspec": {
   "display_name": "Python 3",
   "language": "python",
   "name": "python3"
  },
  "language_info": {
   "codemirror_mode": {
    "name": "ipython",
    "version": 3
   },
   "file_extension": ".py",
   "mimetype": "text/x-python",
   "name": "python",
   "nbconvert_exporter": "python",
   "pygments_lexer": "ipython3",
   "version": "3.13.0"
  }
 },
 "nbformat": 4,
 "nbformat_minor": 2
}
