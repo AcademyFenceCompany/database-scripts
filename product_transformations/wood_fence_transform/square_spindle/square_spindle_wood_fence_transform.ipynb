{
 "cells": [
  {
   "cell_type": "code",
   "execution_count": 1,
   "metadata": {},
   "outputs": [],
   "source": [
    "import pandas as pd"
   ]
  },
  {
   "cell_type": "code",
   "execution_count": null,
   "metadata": {},
   "outputs": [],
   "source": [
    "square_spindle_wood_original_df = pd.read_csv(\"C:\\\\Users\\\\WebDev4\\\\Desktop\\\\afc_website\\\\db-scripts\\\\database-scripts\\\\product_transformations\\\\wood_fence_transform\\\\square_spindle\\\\square_spindled_original.csv\")\n",
    "square_spindle_wood_original_df = square_spindle_wood_original_df.rename(columns={'class': 'shipping_class'})\n",
    "square_spindle_wood_original_df = square_spindle_wood_original_df.fillna('NULL')\n",
    "square_spindle_wood_original_df"
   ]
  },
  {
   "cell_type": "code",
   "execution_count": 3,
   "metadata": {},
   "outputs": [],
   "source": [
    "products_df = pd.DataFrame(columns=['original_product_id', 'product_id', 'product_name', 'item_no', 'cost', 'price_per_unit', 'shippable', 'family_category_id', 'subcategory_id', 'description'])"
   ]
  },
  {
   "cell_type": "code",
   "execution_count": null,
   "metadata": {},
   "outputs": [],
   "source": [
    "for row in square_spindle_wood_original_df.itertuples(index=True):\n",
    "    products_df.loc[row.Index, 'original_product_id'] = 'NULL' if row.product_id =='NULL' else int(row.product_id)\n",
    "\n",
    "    name = row.product_name.replace(\"3/4 in\", \"3/4 in.\").replace(\"ft\", \" ft.\")\n",
    "    name = name.replace(\"s/F\", \"s / F\")\n",
    "    name = \" \".join(name.split())       \n",
    "    # print(row.product_id, \"|\", row.item_no, \"|\", name)       \n",
    "\n",
    "    products_df.loc[row.Index, 'product_name'] = name\n",
    "\n",
    "    products_df.loc[row.Index, 'item_no'] = row.item_no.strip()\n",
    "\n",
    "    products_df.loc[row.Index, 'cost'] = 'NULL' if row.cost == 0 or row.cost == 0.00 else row.cost\n",
    "    products_df.loc[row.Index, 'price_per_unit'] = 0 if row.price == 'NULL' or row.price == 0.00 else row.price\n",
    "    products_df.loc[row.Index, 'shippable'] = 0\n",
    "    products_df.loc[row.Index, 'family_category_id'] = 16\n",
    "    products_df.loc[row.Index, 'subcategory_id'] = 23\n",
    "    products_df.loc[row.Index, 'description'] = \"A square spindle picket fence offers a stylish blend of charm and functionality, perfect for enhancing gardens, front yards, or pool areas. Its evenly spaced square spindles provide an elegant look while maintaining visibility and airflow. Ideal for creating safe spaces for children or pets, it is also great for framing flower beds or pathways. Durable and customizable, this fence adds beauty and value to any property, blending seamlessly with various architectural styles.\"\n",
    "\n",
    "products_df = products_df.fillna('NULL')\n",
    "products_df"
   ]
  },
  {
   "cell_type": "code",
   "execution_count": 8,
   "metadata": {},
   "outputs": [],
   "source": [
    "products_df.to_csv(\"C:\\\\Users\\\\WebDev4\\\\Desktop\\\\afc_website\\\\db-scripts\\\\database-scripts\\\\database_csvs\\\\wood_fence\\\\square_spindle\\\\square_spindle_wood_products.csv\", index=False)"
   ]
  },
  {
   "cell_type": "code",
   "execution_count": 9,
   "metadata": {},
   "outputs": [],
   "source": [
    "product_details_df = pd.DataFrame(columns=['product_details_id', 'original_product_id', 'family_category_id',  'product_id', 'size1', 'size2', 'size3', 'style', 'specialty', 'material', 'spacing', 'color', 'coating'])"
   ]
  },
  {
   "cell_type": "code",
   "execution_count": null,
   "metadata": {},
   "outputs": [],
   "source": [
    "# PRODUCT DETAILS DATAFRAME\n",
    "\n",
    "for row in square_spindle_wood_original_df.itertuples(index=True):\n",
    "    product_details_df.loc[row.Index, 'original_product_id'] = 'NULL' if row.product_id =='NULL' else int(row.product_id)\n",
    "\n",
    "    # length x height - size1\n",
    "    len_h = row.size.replace(\"in\", \" in.\").replace(\"ft\", \" ft.\")\n",
    "    len_h = len_h.replace(\"h\", \"H\")\n",
    "    len_h = len_h.replace(\"3 1/2\", \"3 1/2 ft.\")\n",
    "    len_h = len_h.replace(\"ft. ft.\", \"ft.\")\n",
    "    len_h = len_h.replace(\".5\", \" 1/2\")\n",
    "    len_h = \" \".join(len_h.split())\n",
    "    product_details_df.loc[row.Index, 'size1'] = len_h\n",
    "    # print(row.product_id, len_h)\n",
    "\n",
    "    # style\n",
    "    style = \"\"\n",
    "\n",
    "    product_details_df.loc[row.Index, 'style'] = \"Square Spindle\"\n",
    "    \n",
    "    # print(row.item_no, \"|\", row.product_name,  \"|\",  style)\n",
    "\n",
    "    # specialty\n",
    "    # specialty = \"\"\n",
    "    # dlt = \"Diagonal Lattice\"\n",
    "    # diamlt = \"Diamond Top\"\n",
    "    # sqlt = \"Square Lattice\"\n",
    "    # sb = \"Solid\"\n",
    "\n",
    "\n",
    "    # if dlt in row.product_name:\n",
    "    #     specialty = \"Diagonal Lattice Top\"\n",
    "    # if diamlt in row.product_name:\n",
    "    #     specialty = \"Diamond Top\"\n",
    "    # if sqlt in row.product_name:\n",
    "    #     specialty = \"Square Lattice Top\"\n",
    "    # if sb in row.product_name:\n",
    "    #     specialty = \"Solid Top\"\n",
    "\n",
    "    product_details_df.loc[row.Index, 'specialty'] = \"NULL\"\n",
    "\n",
    "    # print(row.item_no, \"|\", row.product_name, \"|\" , specialty)\n",
    "    \n",
    "    # material\n",
    "    product_details_df.loc[row.Index, 'material'] = \"Cedar Wood\"\n",
    "\n",
    "    # color\n",
    "    product_details_df.loc[row.Index, 'color'] = \"Cedar Wood\"\n",
    "    # print(row.product_id,  product_details_df.loc[row.Index, 'color'])\n",
    "\n",
    "    # coating\n",
    "    product_details_df.loc[row.Index, 'coating'] = \"NULL\"\n",
    "\n",
    "    # spacing\n",
    "    # spacing = \"NULL\"\n",
    "    # if \"2 1/2\" in row.product_name:\n",
    "    #     spacing = \"2 1/2 in.\"\n",
    "    # if \"1 3/4\" in row.product_name:\n",
    "    #     spacing = \"1 3/4 in.\"\n",
    "    \n",
    "    # product_details_df.loc[row.Index, 'spacing'] = spacing\n",
    "    # print(row.product_name, \"|\", product_details_df.loc[row.Index, 'spacing'])\n",
    "\n",
    "    # family_cat_id\n",
    "    product_details_df.loc[row.Index, 'family_category_id'] = 23\n",
    "\n",
    "product_details_df = product_details_df.fillna('NULL')\n",
    "product_details_df"
   ]
  },
  {
   "cell_type": "code",
   "execution_count": 14,
   "metadata": {},
   "outputs": [],
   "source": [
    "product_details_df.to_csv(\"C:\\\\Users\\\\WebDev4\\\\Desktop\\\\afc_website\\\\db-scripts\\\\database-scripts\\\\database_csvs\\\\wood_fence\\\\square_spindle\\\\square_spindle_wood_product_details.csv\", index=False)"
   ]
  },
  {
   "cell_type": "code",
   "execution_count": 26,
   "metadata": {},
   "outputs": [],
   "source": [
    "product_media_df = pd.DataFrame(columns=['product_media_id', 'original_product_id', 'family_category_id', 'product_id', 'general_image', 'small_image', 'large_image'])"
   ]
  },
  {
   "cell_type": "code",
   "execution_count": null,
   "metadata": {},
   "outputs": [],
   "source": [
    "product_media_df['original_product_id'] = square_spindle_wood_original_df['product_id']\n",
    "product_media_df['general_image'] = 'https://www.academyfence.com/images/xy/508SF.jpg'\n",
    "product_media_df['family_category_id'] = 21\n",
    "product_media_df = product_media_df.fillna('NULL')\n",
    "product_media_df"
   ]
  },
  {
   "cell_type": "code",
   "execution_count": 36,
   "metadata": {},
   "outputs": [],
   "source": [
    "product_media_df.to_csv(\"C:\\\\Users\\\\WebDev4\\\\Desktop\\\\afc_website\\\\db-scripts\\\\database-scripts\\\\database_csvs\\\\wood_fence\\\\stockade\\\\stockade_wood_product_media.csv\", index=False)"
   ]
  },
  {
   "cell_type": "code",
   "execution_count": 41,
   "metadata": {},
   "outputs": [],
   "source": [
    "shipping_details_df = pd.DataFrame(columns=['original_product_id', 'family_category_id', 'shipping_details_id', 'product_id', 'weight', 'shipping_length', 'shipping_width', 'shipping_height', 'shipping_class', 'free_shipping', 'special_shipping', 'amount_per_box', 'description'])"
   ]
  },
  {
   "cell_type": "code",
   "execution_count": null,
   "metadata": {},
   "outputs": [],
   "source": [
    "# SHIPPING DETAILS DATAFRAME\n",
    "for row in stockade.itertuples(index=True):\n",
    "    shipping_details_df.loc[row.Index, 'original_product_id'] = 'NULL' if row.product_id =='NULL' else int(row.product_id)\n",
    "    shipping_details_df.loc[row.Index, 'shipping_length'] = row.ship_length\n",
    "    shipping_details_df.loc[row.Index, 'shipping_width'] = row.ship_width\n",
    "    shipping_details_df.loc[row.Index, 'shipping_height'] = row.ship_height\n",
    "    shipping_details_df.loc[row.Index, 'weight'] = row.weight_lbs\n",
    "    shipping_details_df.loc[row.Index, 'free_shipping'] = 0\n",
    "    shipping_details_df.loc[row.Index, 'special_shipping'] = 0\n",
    "    shipping_details_df.loc[row.Index, 'amount_per_box'] = 1\n",
    "    shipping_details_df.loc[row.Index, 'shipping_class'] = row.shipping_class.strip()\n",
    "    shipping_details_df.loc[row.Index, 'description'] = \"Academy Fence Company Fence Pen Kits\"\n",
    "\n",
    "    shipping_details_df.loc[row.Index, 'family_category_id'] = 12\n",
    "\n",
    "shipping_details_df['original_product_id'] = shipping_details_df['original_product_id'].fillna(0).astype(int)\n",
    "shipping_details_df = shipping_details_df.fillna('NULL')\n",
    "print(shipping_details_df)"
   ]
  },
  {
   "cell_type": "code",
   "execution_count": 43,
   "metadata": {},
   "outputs": [],
   "source": [
    "shipping_details_df.to_csv(\"C:\\\\Users\\\\WebDev4\\\\Desktop\\\\afc_website\\\\db-scripts\\\\database-scripts\\\\database_csvs\\\\welded_wire\\\\fence_pen_kits\\\\fence_pen_kits_ww_shipping_details.csv\", index=False)"
   ]
  }
 ],
 "metadata": {
  "kernelspec": {
   "display_name": "Python 3",
   "language": "python",
   "name": "python3"
  },
  "language_info": {
   "codemirror_mode": {
    "name": "ipython",
    "version": 3
   },
   "file_extension": ".py",
   "mimetype": "text/x-python",
   "name": "python",
   "nbconvert_exporter": "python",
   "pygments_lexer": "ipython3",
   "version": "3.13.0"
  }
 },
 "nbformat": 4,
 "nbformat_minor": 2
}
