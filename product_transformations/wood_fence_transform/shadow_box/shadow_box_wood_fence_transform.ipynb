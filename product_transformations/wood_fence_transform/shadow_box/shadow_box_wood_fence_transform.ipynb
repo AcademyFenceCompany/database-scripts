{
 "cells": [
  {
   "cell_type": "code",
   "execution_count": 1,
   "metadata": {},
   "outputs": [],
   "source": [
    "import pandas as pd"
   ]
  },
  {
   "cell_type": "code",
   "execution_count": null,
   "metadata": {},
   "outputs": [],
   "source": [
    "shadow_original_df = pd.read_csv(\"C:\\\\Users\\\\WebDev4\\\\Desktop\\\\afc_website\\\\db-scripts\\\\database-scripts\\\\product_transformations\\\\wood_fence_transform\\\\shadow_box\\\\shadow_box_wood_orginal.csv\")\n",
    "shadow_original_df.head()"
   ]
  },
  {
   "cell_type": "code",
   "execution_count": null,
   "metadata": {},
   "outputs": [],
   "source": [
    "shadow_original_df = shadow_original_df.rename(columns={'class': 'shipping_class'})\n",
    "shadow_original_df = shadow_original_df.fillna('NULL')\n",
    "shadow_original_df"
   ]
  },
  {
   "cell_type": "code",
   "execution_count": 5,
   "metadata": {},
   "outputs": [],
   "source": [
    "products_df = pd.DataFrame(columns=['original_product_id', 'product_id', 'product_name', 'item_no', 'cost', 'price_per_unit', 'shippable', 'family_category_id', 'subcategory_id', 'description'])"
   ]
  },
  {
   "cell_type": "code",
   "execution_count": null,
   "metadata": {},
   "outputs": [],
   "source": [
    "for row in shadow_original_df.itertuples(index=True):\n",
    "    products_df.loc[row.Index, 'original_product_id'] = 'NULL' if row.product_id =='NULL' else int(row.product_id)\n",
    "\n",
    "    name = row.product_name.replace(\"1/2 in\", \"1/2\").replace(\"ft\", \" ft.\")\n",
    "    name = name.replace(\"1 3/4 in\", \"1 3/4 in.\").replace(\"2 1/2\", \"2 1/2 in.\")\n",
    "    name = name.replace(\"Pickett\", \"Picket\").replace(\"  \", \" \")\n",
    "    name = name.replace(\"W.G.\", \"Walk Gate\").replace(\"D.G.\", \"Drive Gate\")\n",
    "    name = name.replace(\"PC\", \"Pool Code\").replace(\"-\", \" \")\n",
    "    name = \" \".join(name.split())       \n",
    "    print(row.product_id, row.item_no, name)       \n",
    "\n",
    "    products_df.loc[row.Index, 'product_name'] = name\n",
    "\n",
    "    products_df.loc[row.Index, 'item_no'] = row.item_no.strip()\n",
    "\n",
    "    products_df.loc[row.Index, 'cost'] = 'NULL' if row.cost == 0 or row.cost == 0.00 else row.cost\n",
    "    products_df.loc[row.Index, 'price_per_unit'] = 0 if row.price == 'NULL' or row.price == 0.00 else row.price\n",
    "    products_df.loc[row.Index, 'shippable'] = 0\n",
    "    products_df.loc[row.Index, 'family_category_id'] = 16\n",
    "    products_df.loc[row.Index, 'subcategory_id'] = 19\n",
    "    products_df.loc[row.Index, 'description'] = \"Academy manufactured Shadow Box / Board On Board Wood Fence is hand made with 1 in. x 4 in. white cedar boards, stainless steel nailed to 2 in. x 3 in. husky white cedar back rails. The individual pickets ome in a variety of styles, including slant ear and french gothic.\"\n",
    "\n",
    "products_df = products_df.fillna('NULL')\n",
    "products_df\n"
   ]
  },
  {
   "cell_type": "code",
   "execution_count": 13,
   "metadata": {},
   "outputs": [],
   "source": [
    "products_df.to_csv(\"C:\\\\Users\\\\WebDev4\\\\Desktop\\\\afc_website\\\\db-scripts\\\\database-scripts\\\\database_csvs\\\\wood_fence\\\\shadow_box\\\\shadow_box_wood_products.csv\", index=False)"
   ]
  },
  {
   "cell_type": "code",
   "execution_count": 14,
   "metadata": {},
   "outputs": [],
   "source": [
    "product_details_df = pd.DataFrame(columns=['product_details_id', 'original_product_id', 'family_category_id',  'product_id', 'size1', 'size2', 'size3', 'style', 'specialty', 'material', 'spacing', 'color', 'coating'])"
   ]
  },
  {
   "cell_type": "code",
   "execution_count": null,
   "metadata": {},
   "outputs": [],
   "source": [
    "# PRODUCT DETAILS DATAFRAME\n",
    "\n",
    "for row in shadow_original_df.itertuples(index=True):\n",
    "    product_details_df.loc[row.Index, 'original_product_id'] = 'NULL' if row.product_id =='NULL' else int(row.product_id)\n",
    "\n",
    "    # length x height - size1\n",
    "    len_h = row.size.replace(\"in\", \" in.\").replace(\"ft\", \" ft.\")\n",
    "    len_h = len_h.replace(\"h\", \"H\")\n",
    "    len_h = len_h.replace(\"3 1/2\", \"3 1/2 ft.\")\n",
    "    len_h = len_h.replace(\"ft. ft.\", \"ft.\")\n",
    "    len_h = len_h.replace(\".5\", \" 1/2\")\n",
    "    len_h = \" \".join(len_h.split())\n",
    "    product_details_df.loc[row.Index, 'size1'] = len_h\n",
    "    # print(row.product_id, len_h)\n",
    "\n",
    "    # style\n",
    "    style = \"\"\n",
    "    sot = \"SOT\"\n",
    "    concave = \"Concave\"\n",
    "    concave_2 = \"CC\"\n",
    "    convex = \"Convex\"\n",
    "    convex_2 = \"CX\"\n",
    "\n",
    "    if sot in row.product_name or sot in row.item_no:\n",
    "        style = \"Straight on Top\"\n",
    "    if concave in row.product_name or concave_2 in row.item_no:\n",
    "        style = \"Concave\"\n",
    "    if convex in row.product_name or convex_2 in row.item_no:\n",
    "        style = \"Convex\"\n",
    "\n",
    "    product_details_df.loc[row.Index, 'style'] = style.strip()\n",
    "    \n",
    "    # print(row.item_no, \"|\", row.product_name,  \"|\",  style)\n",
    "\n",
    "    # specialty\n",
    "    specialty = \"\"\n",
    "    flat = \"FT\"\n",
    "    flat_2 = \"Flat\"\n",
    "    knob = \"Knob Top\" \n",
    "    knob_2 = \"KT\"\n",
    "    dog = \"Dog Ear\"\n",
    "    dog_2 = \"DE\"\n",
    "    french = \"FG\"\n",
    "    french_2 = \"French Gothic\"\n",
    "    gothic = \"GP\"\n",
    "    gothic_2 = \"Gothic Point\"\n",
    "    slant = \"SE\"\n",
    "    slant_2 = \"Slant Ear\"\n",
    "\n",
    "\n",
    "    if flat in row.product_name or flat_2 in row.product_name or flat in row.item_no:\n",
    "        specialty = \"Flat Top\"\n",
    "    if knob in row.product_name or knob_2 in row.product_name or knob_2 in row.item_no:\n",
    "        specialty = \"Knob Top\"\n",
    "    if dog in row.product_name or dog_2 in row.product_name or dog_2 in row.item_no:\n",
    "        specialty = \"Dog Ear\"\n",
    "    if french in row.product_name or french_2 in row.product_name or french in row.item_no:\n",
    "        specialty = \"French Gothic\"\n",
    "    if gothic in row.product_name or gothic_2 in row.product_name or gothic in row.item_no:\n",
    "        specialty = \"Gothic Point\"\n",
    "    if slant in row.product_name or slant_2 in row.product_name or slant in row.item_no:\n",
    "        specialty = \"Slant Ear\"\n",
    "\n",
    "    product_details_df.loc[row.Index, 'specialty'] = \"NULL\" if specialty == \"\" else specialty.strip()\n",
    "\n",
    "    # print(row.item_no, \"|\", row.product_name, \"|\" , specialty)\n",
    "    \n",
    "    # material\n",
    "    product_details_df.loc[row.Index, 'material'] = \"Cedar Wood\"\n",
    "\n",
    "    # color\n",
    "    product_details_df.loc[row.Index, 'color'] = \"Cedar Wood\"\n",
    "    # print(row.product_id,  row.color)\n",
    "\n",
    "    # coating\n",
    "    product_details_df.loc[row.Index, 'coating'] = \"NULL\"\n",
    "\n",
    "    # spacing\n",
    "    spacing = \"NULL\"\n",
    "    if \"2 1/2\" in row.product_name:\n",
    "        spacing = \"2 1/2 in.\"\n",
    "    if \"1 3/4\" in row.product_name:\n",
    "        spacing = \"1 3/4 in.\"\n",
    "    \n",
    "    product_details_df.loc[row.Index, 'spacing'] = spacing\n",
    "    # print(row.product_name, \"|\", product_details_df.loc[row.Index, 'spacing'])\n",
    "\n",
    "    # family_cat_id\n",
    "    product_details_df.loc[row.Index, 'family_category_id'] = 19\n",
    "\n",
    "product_details_df = product_details_df.fillna('NULL')\n",
    "product_details_df.tail(100)"
   ]
  },
  {
   "cell_type": "code",
   "execution_count": 35,
   "metadata": {},
   "outputs": [],
   "source": [
    "product_details_df.to_csv(\"C:\\\\Users\\\\WebDev4\\\\Desktop\\\\afc_website\\\\db-scripts\\\\database-scripts\\\\database_csvs\\\\wood_fence\\\\shadow_box\\\\shadow_box_wood_product_details.csv\", index=False)"
   ]
  },
  {
   "cell_type": "code",
   "execution_count": 36,
   "metadata": {},
   "outputs": [],
   "source": [
    "product_media_df = pd.DataFrame(columns=['product_media_id', 'original_product_id', 'family_category_id', 'product_id', 'general_image', 'small_image', 'large_image'])"
   ]
  },
  {
   "cell_type": "code",
   "execution_count": null,
   "metadata": {},
   "outputs": [],
   "source": [
    "style_spec = pd.read_csv(\"C:\\\\Users\\\\WebDev4\\\\Desktop\\\\afc_website\\\\db-scripts\\\\database-scripts\\\\database_csvs\\\\wood_fence\\\\shadow_box\\\\shadow_box_wood_product_details.csv\")\n",
    "style_spec = style_spec.fillna(\"NULL\")\n",
    "style_spec.tail(50)"
   ]
  },
  {
   "cell_type": "code",
   "execution_count": null,
   "metadata": {},
   "outputs": [],
   "source": [
    "for row in style_spec.itertuples(index=True):\n",
    "    product_media_df.loc[row.Index, 'original_product_id'] = row.original_product_id \n",
    "\n",
    "    # small image\n",
    "    general_image = \"NULL\"\n",
    "\n",
    "    if row.style == \"Straight on Top\":\n",
    "        if row.specialty == \"Gothic Point\":\n",
    "            general_image = \"https://www.academyfence.com/images/wood/sketch/BBSOTGP.jpg\"\n",
    "        if row.specialty == \"French Gothic\":\n",
    "            general_image = \"https://www.academyfence.com/images/wood/sketch/BBSOTFG.jpg\"\n",
    "        if row.specialty == \"Slant Ear\":\n",
    "            general_image = \"https://www.academyfence.com/images/wood/sketch/BBSOTSE.jpg\"\n",
    "    if row.style == \"Concave\":\n",
    "        if row.specialty == \"Flat Top\":\n",
    "            general_image = \"https://www.academyfence.com/images/wood/sketch/BBCVFT.jpg\"\n",
    "        if row.specialty == \"Gothic Point\":\n",
    "            general_image = \"NULL\"\n",
    "        if row.specialty == \"French Gothic\":\n",
    "            general_image = \"NULL\"\n",
    "    if row.style == \"Convex\":\n",
    "        if row.specialty == \"Flat Top\":\n",
    "            general_image = \"https://www.academyfence.com/images/wood/sketch/BBCXFT.jpg\"\n",
    "        if row.specialty == \"Gothic Point\":\n",
    "            general_image = \"NULL\"\n",
    "        if row.specialty == \"French Gothic\":\n",
    "            general_image = \"NULL\"\n",
    "\n",
    "    product_media_df.loc[row.Index, 'general_image'] = general_image\n",
    "    product_media_df.loc[row.Index, 'family_category_id'] = 19\n",
    "\n",
    "product_media_df['original_product_id'] = product_media_df['original_product_id'].fillna(0).astype(int)\n",
    "product_media_df = product_media_df.fillna('NULL')\n",
    "product_media_df\n"
   ]
  },
  {
   "cell_type": "code",
   "execution_count": 42,
   "metadata": {},
   "outputs": [],
   "source": [
    "product_media_df.to_csv(\"C:\\\\Users\\\\WebDev4\\\\Desktop\\\\afc_website\\\\db-scripts\\\\database-scripts\\\\database_csvs\\\\wood_fence\\\\shadow_box\\\\shadow_box_wood_product_media.csv\", index=False)"
   ]
  },
  {
   "cell_type": "code",
   "execution_count": 41,
   "metadata": {},
   "outputs": [],
   "source": [
    "shipping_details_df = pd.DataFrame(columns=['original_product_id', 'family_category_id', 'shipping_details_id', 'product_id', 'weight', 'shipping_length', 'shipping_width', 'shipping_height', 'shipping_class', 'free_shipping', 'special_shipping', 'amount_per_box', 'description'])"
   ]
  },
  {
   "cell_type": "code",
   "execution_count": null,
   "metadata": {},
   "outputs": [],
   "source": [
    "# SHIPPING DETAILS DATAFRAME\n",
    "for row in shadow_original_df.itertuples(index=True):\n",
    "    shipping_details_df.loc[row.Index, 'original_product_id'] = 'NULL' if row.product_id =='NULL' else int(row.product_id)\n",
    "    shipping_details_df.loc[row.Index, 'shipping_length'] = row.ship_length\n",
    "    shipping_details_df.loc[row.Index, 'shipping_width'] = row.ship_width\n",
    "    shipping_details_df.loc[row.Index, 'shipping_height'] = row.ship_height\n",
    "    shipping_details_df.loc[row.Index, 'weight'] = row.weight_lbs\n",
    "    shipping_details_df.loc[row.Index, 'free_shipping'] = 0\n",
    "    shipping_details_df.loc[row.Index, 'special_shipping'] = 0\n",
    "    shipping_details_df.loc[row.Index, 'amount_per_box'] = 1\n",
    "    shipping_details_df.loc[row.Index, 'shipping_class'] = row.shipping_class.strip()\n",
    "    shipping_details_df.loc[row.Index, 'description'] = \"Academy Fence Company Fence Pen Kits\"\n",
    "\n",
    "    shipping_details_df.loc[row.Index, 'family_category_id'] = 12\n",
    "\n",
    "shipping_details_df['original_product_id'] = shipping_details_df['original_product_id'].fillna(0).astype(int)\n",
    "shipping_details_df = shipping_details_df.fillna('NULL')\n",
    "print(shipping_details_df)"
   ]
  },
  {
   "cell_type": "code",
   "execution_count": 43,
   "metadata": {},
   "outputs": [],
   "source": [
    "shipping_details_df.to_csv(\"C:\\\\Users\\\\WebDev4\\\\Desktop\\\\afc_website\\\\db-scripts\\\\database-scripts\\\\database_csvs\\\\welded_wire\\\\fence_pen_kits\\\\fence_pen_kits_ww_shipping_details.csv\", index=False)"
   ]
  }
 ],
 "metadata": {
  "kernelspec": {
   "display_name": "Python 3",
   "language": "python",
   "name": "python3"
  },
  "language_info": {
   "codemirror_mode": {
    "name": "ipython",
    "version": 3
   },
   "file_extension": ".py",
   "mimetype": "text/x-python",
   "name": "python",
   "nbconvert_exporter": "python",
   "pygments_lexer": "ipython3",
   "version": "3.13.0"
  }
 },
 "nbformat": 4,
 "nbformat_minor": 2
}
